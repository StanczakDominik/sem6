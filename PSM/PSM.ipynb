{
 "cells": [
  {
   "cell_type": "markdown",
   "metadata": {},
   "source": [
    "# PSM\n",
    "## Notatki bardzo luźne, Dominik Stańczak\n",
    "[Strona przedmiotu](http://if.pw.edu.pl/~agatka/psm.html)\n",
    "\n",
    "Wykłady 8:30 bez przerwy"
   ]
  },
  {
   "cell_type": "markdown",
   "metadata": {},
   "source": [
    "## Wykład 1\n",
    "\n",
    "![1](PSM1-1.jpg)\n",
    "![2](PSM1-2.jpg)\n",
    "\n",
    "[Prezentacja](http://if.pw.edu.pl/~agatka/psm/wyklad_01.pdf)\n",
    "\n",
    "\n",
    "Prezentacje ogólnie będą.\n",
    "Przedmiot jest dość wredny bo trzeba się uczyć instrukcji, ale raczej do ogarnięcia.\n",
    "\n",
    "99% elektroniki jest w mikrokontrolerach. Trochę jak 99% materii we wszechświecie to plazma. Więc mikrokontrolery to taka plazma, tylko inna.\n",
    "\n",
    "Książki:\n",
    "* Francuz, *Język  C dla mikrokontrolerów AVR* - bardziej zaawansowana pod względem C\n",
    "* Mirosław Kardaś, *Mikrokontrolery AVR, język C* - mniej zaawansowana\n",
    "\n",
    "Koszt płytki do ćwiczeń własnych - Atmel AVR - rzędu 100 zł\n",
    "\n",
    "Ocena - $\\frac{2}{3} $ lab $ + \\frac{1}{3}$ wykład, obie muszą być pozytywne\n",
    "Kolokwium w 1/4 semestru i 1/2 semestru\n",
    "\n",
    "Konwersja z binarki do hexa, najprościej przez DEC: $0123456789ABCDEF, 0xF = 15, 0x10 = 16, 255 = 0b = 0xFF$\n",
    "Pojedynczy bajt to jedno 8bitowe **słowo**, np. $0xE4 = 4+15*16 = 0b1110|0100$\n",
    "\n",
    "> TARDIS, nie wiem czy kojarzycie...\n",
    "\n",
    "[Magistrala](https://pl.wikipedia.org/wiki/Magistrala_komunikacyjna), z angielska [bus](https://en.wikipedia.org/wiki/Bus_(computing) - system komunikacji komputera\\mikrokontrolera z zewnątrznym urządzeniem. np PCI Express jest magistralą"
   ]
  }
 ],
 "metadata": {
  "kernelspec": {
   "display_name": "Python 3",
   "language": "python",
   "name": "python3"
  },
  "language_info": {
   "codemirror_mode": {
    "name": "ipython",
    "version": 3
   },
   "file_extension": ".py",
   "mimetype": "text/x-python",
   "name": "python",
   "nbconvert_exporter": "python",
   "pygments_lexer": "ipython3",
   "version": "3.5.1"
  }
 },
 "nbformat": 4,
 "nbformat_minor": 0
}

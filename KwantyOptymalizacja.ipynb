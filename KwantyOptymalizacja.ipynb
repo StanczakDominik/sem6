{
 "cells": [
  {
   "cell_type": "code",
   "execution_count": 19,
   "metadata": {
    "collapsed": true
   },
   "outputs": [],
   "source": [
    "import numpy as np\n",
    "import matplotlib.pyplot as plt\n",
    "import scipy.integrate as sintegrate\n",
    "import scipy.optimize as opt\n",
    "import scipy.special as sp\n",
    "%matplotlib inline"
   ]
  },
  {
   "cell_type": "code",
   "execution_count": 40,
   "metadata": {
    "collapsed": false
   },
   "outputs": [
    {
     "ename": "SyntaxError",
     "evalue": "unexpected EOF while parsing (<ipython-input-40-ddbd7e925671>, line 30)",
     "output_type": "error",
     "traceback": [
      "\u001b[1;36m  File \u001b[1;32m\"<ipython-input-40-ddbd7e925671>\"\u001b[1;36m, line \u001b[1;32m30\u001b[0m\n\u001b[1;33m    print(opt.minimize(suma, np.array([1, *a]), args=(epsilon2,), bounds=((0, None), *[(None, None) for i in a] ))\u001b[0m\n\u001b[1;37m                                                                                                                  ^\u001b[0m\n\u001b[1;31mSyntaxError\u001b[0m\u001b[1;31m:\u001b[0m unexpected EOF while parsing\n"
     ]
    }
   ],
   "source": [
    "a = np.ones(2)\n",
    "epsilon2 = 0\n",
    "\n",
    "def podcalkowa(x, w, i, j):\n",
    "    H_arg = np.sqrt(w) * x\n",
    "    Hi = sp.hermite(i)(H_arg)\n",
    "    Hj = sp.hermite(j)(H_arg)\n",
    "    return np.exp(-H_arg**2) * x**2  * Hi * Hj\n",
    "\n",
    "def calka(w, i, j):\n",
    "    sigma = (2*w)**-0.5\n",
    "    return sintegrate.quad(podcalkowa, -sigma, sigma, args=(w, i, j))\n",
    "\n",
    "def skladnik(w, i, j, epsilon2):\n",
    "    prawy_skladnik = w/(np.pi * 2**i * sp.factorial(i) *\\\n",
    "                        2**j * sp.factorial(j)) *\\\n",
    "                        (epsilon2 - w**2/2) * calka(w, i, j)[0]\n",
    "    if i == j:\n",
    "        prawy_skladnik += (j+0.5) * w\n",
    "    prawy_skladnik *= a[i]*a[j]\n",
    "    \n",
    "    return prawy_skladnik\n",
    "\n",
    "def suma(wektor, epsilon2):\n",
    "    w = wektor[0]\n",
    "    a = wektor[1:]\n",
    "    wynik = 0.0\n",
    "    for i in range(len(a)):\n",
    "        for j in range(len(a)):\n",
    "            wynik += skladnik(w, i, j, epsilon2)\n",
    "    return wynik\n",
    "print(opt.minimize(suma, np.array([1, *a]), args=(epsilon2,), bounds=((0.01, None), *[(None, None) for i in a] ))"
   ]
  },
  {
   "cell_type": "code",
   "execution_count": 39,
   "metadata": {
    "collapsed": false
   },
   "outputs": [],
   "source": [
    "opt.minimize?"
   ]
  },
  {
   "cell_type": "code",
   "execution_count": null,
   "metadata": {
    "collapsed": true
   },
   "outputs": [],
   "source": [
    "[]"
   ]
  },
  {
   "cell_type": "code",
   "execution_count": 20,
   "metadata": {
    "collapsed": false
   },
   "outputs": [
    {
     "data": {
      "image/png": "[encoded data removed]",
      "text/plain": [
       "<matplotlib.figure.Figure at 0x7ff1111586d8>"
      ]
     },
     "metadata": {},
     "output_type": "display_data"
    }
   ],
   "source": [
    "sintegrate.quad?\n",
    "x = np.linspace(-5, 5, 100)\n",
    "for i in range(1, 6):\n",
    "    y = podcalkowa(x, 1, 1, i)\n",
    "    plt.plot(x,y)\n"
   ]
  },
  {
   "cell_type": "code",
   "execution_count": 12,
   "metadata": {
    "collapsed": true
   },
   "outputs": [],
   "source": [
    "plt.show()"
   ]
  },
  {
   "cell_type": "code",
   "execution_count": null,
   "metadata": {
    "collapsed": true
   },
   "outputs": [],
   "source": []
  }
 ],
 "metadata": {
  "kernelspec": {
   "display_name": "Python 3",
   "language": "python",
   "name": "python3"
  },
  "language_info": {
   "codemirror_mode": {
    "name": "ipython",
    "version": 3
   },
   "file_extension": ".py",
   "mimetype": "text/x-python",
   "name": "python",
   "nbconvert_exporter": "python",
   "pygments_lexer": "ipython3",
   "version": "3.5.1"
  }
 },
 "nbformat": 4,
 "nbformat_minor": 0
}

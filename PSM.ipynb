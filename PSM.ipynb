{
 "cells": [
  {
   "cell_type": "markdown",
   "metadata": {},
   "source": [
    "# PSM\n",
    "## Notatki bardzo luźne, Dominik Stańczak\n",
    "[Strona przedmiotu](http://if.pw.edu.pl/~agatka/psm.html)\n",
    "\n",
    "Wykłady 8:30 bez przerwy\n",
    "\n",
    "[Instrukcje do labków](http://fizyka.if.pw.edu.pl/~labe/index.php/Laboratorium_PSM)"
   ]
  },
  {
   "cell_type": "markdown",
   "metadata": {},
   "source": [
    "## [Wykład 1](http://if.pw.edu.pl/~agatka/psm/wyklad_01.pdf)\n",
    "\n",
    "\n",
    "Prezentacje ogólnie będą.\n",
    "Przedmiot jest dość wredny bo trzeba się uczyć instrukcji, ale raczej do ogarnięcia.\n",
    "\n",
    "99% elektroniki jest w mikrokontrolerach. Trochę jak 99% materii we wszechświecie to plazma. Więc mikrokontrolery to taka plazma, tylko inna.\n",
    "\n",
    "Książki:\n",
    "* Francuz, *Język  C dla mikrokontrolerów AVR* - bardziej zaawansowana pod względem C\n",
    "* Mirosław Kardaś, *Mikrokontrolery AVR, język C* - mniej zaawansowana\n",
    "\n",
    "Koszt płytki do ćwiczeń własnych - Atmel AVR - rzędu 100 zł\n",
    "\n",
    "Ocena - $\\frac{2}{3} $ lab $ + \\frac{1}{3}$ wykład, obie muszą być pozytywne\n",
    "Kolokwium w 1/4 semestru i 1/2 semestru\n",
    "\n",
    "Konwersja z binarki do hexa, najprościej przez DEC: $0123456789ABCDEF, 0xF = 15, 0x10 = 16, 255 = 0b = 0xFF$\n",
    "Pojedynczy bajt to jedno 8bitowe **słowo**, np. $0xE4 = 4+15*16 = 0b1110|0100$\n",
    "\n",
    "> TARDIS, nie wiem czy kojarzycie...\n",
    "\n",
    "[Magistrala](https://pl.wikipedia.org/wiki/Magistrala_komunikacyjna), z angielska [bus](https://en.wikipedia.org/wiki/Bus_(computing) - system komunikacji komputera\\mikrokontrolera z zewnątrznym urządzeniem. np PCI Express jest magistralą"
   ]
  },
  {
   "cell_type": "markdown",
   "metadata": {},
   "source": [
    "# [Wykład 2](http://if.pw.edu.pl/~agatka/psm/wyklad_02.pdf)\n",
    "\n",
    "W mikrokontrolerach lepiej definiować zmienne na zewnątrz funkcji, przed mainem itd. Szybciej to śmiga.\n",
    "\n",
    "Int branchuje się po zainclude'owaniu <stdint.h> na *(u)*int[8,16,32,64]_t - lepiej stosować takie typy w celu oszczędzenia na pamięci.\n",
    "\n",
    "```c\n",
    "#include <stdint.h>\n",
    "uint8_t x = 1;\n",
    "```\n",
    "\n",
    "Struktura if-not-define:\n",
    "```c\n",
    "#ifndef LCD_H_\n",
    "#define LCD_H_\n",
    "{\n",
    "    void led_init(void);\n",
    "}\n",
    "#endif\n",
    "```\n",
    "Żeby uniknąć definiowania funkcji (pamięć!), można zrobić tak\n",
    "```c\n",
    "#define LICZ(a,b) (a+b)\n",
    "```\n",
    "trzeba pamiętać o kolejności wykonywania poleceń. nawiasy są tu git pomysłem.\n",
    "\n",
    "Zamiast tworzenia zmiennych typu const:\n",
    "```c\n",
    "#define LED 0b00010000\n",
    "PORTC = LED;\n",
    "```\n",
    "\n",
    "Kilka ograniczeń Atmegi:\n",
    "* *atmega słabo obługuje floaty*\n",
    "* **doubli nie ma w ogóle.**\n",
    "* Nie da się zapisać pojedynczego bitu (toteż nie ma zysku na definiowaniu 1-bitowego boola. W celu oszczędzenia miejsca można zamiast tego zebrać bity w struktury. Na prezentacji pod \"Bity zapisujemy tak\":\n",
    "\n",
    "```c\n",
    "struct liczba {\n",
    "unsigned int flaga_1 :1;        // :1 - miejsce na 1 bit\n",
    "unsigned int flaga_2 :1;\n",
    "unsigned int flaga_dwubitowa :2;\n",
    "} x; //x jest typu liczba\n",
    "\n",
    "x.flaga_1 = 1;\n",
    "x.flaga_2 = 0;\n",
    "x.flaga_dwubitowa = 3; //3 = 0b11, akurat się zmieści\n",
    "```\n",
    "\n",
    "Przykładowy kod blinkowania:\n",
    "```c\n",
    "#define CZAS 10\n",
    "int main(void)\n",
    "{\n",
    "    DDRA = 0xFF; //wszystkie piny A na out\n",
    "    for(;;) //fikuśny while 1\n",
    "    {\n",
    "        PORTA ^= 0xFF; //odwracamy wszystkie bity\n",
    "        _delay_ms(CZAS)\n",
    "    }\n",
    "    return;\n",
    "}\n",
    "```\n",
    "\n",
    "\n",
    "### Operacje bitowe\n",
    "* Not: ~\n",
    "* And: &\n",
    "* Or: |\n",
    "* Nor: ^\n",
    "* Bitowe w lewo: <<\n",
    "* Bitowe w prawo: >>\n",
    "\n",
    "```c\n",
    "int x    = 10111100;\n",
    "int mask = 11101111;\n",
    "//x&mask = 10101100;\n",
    "int m2   = 01000000;\n",
    "//x|m2   = 11111100;\n",
    "\n",
    "int z = x << 5;\n",
    "// int z = 10000000;\n",
    "```"
   ]
  },
  {
   "cell_type": "code",
   "execution_count": 14,
   "metadata": {
    "collapsed": false
   },
   "outputs": [
    {
     "data": {
      "text/plain": [
       "(188, '0b10111100', '0xbc')"
      ]
     },
     "execution_count": 14,
     "metadata": {},
     "output_type": "execute_result"
    }
   ],
   "source": [
    "x = 0b10111100\n",
    "x, bin(x), hex(x)"
   ]
  },
  {
   "cell_type": "code",
   "execution_count": 11,
   "metadata": {
    "collapsed": false
   },
   "outputs": [
    {
     "data": {
      "text/plain": [
       "(6016, '0b1011110000000', '0x1780')"
      ]
     },
     "execution_count": 11,
     "metadata": {},
     "output_type": "execute_result"
    }
   ],
   "source": [
    "z = x<<5\n",
    "z, bin(z), hex(z)"
   ]
  },
  {
   "cell_type": "markdown",
   "metadata": {},
   "source": [
    "Wynik dynamic typingu w Pythonie!"
   ]
  },
  {
   "cell_type": "code",
   "execution_count": 25,
   "metadata": {
    "collapsed": false
   },
   "outputs": [
    {
     "data": {
      "text/plain": [
       "1"
      ]
     },
     "execution_count": 25,
     "metadata": {},
     "output_type": "execute_result"
    }
   ],
   "source": [
    "y = 0b0000000000000000000000000001\n",
    "y"
   ]
  },
  {
   "cell_type": "markdown",
   "metadata": {},
   "source": [
    "Automatycznie dopasowuje liczbę potrzebnych bitów."
   ]
  },
  {
   "cell_type": "code",
   "execution_count": 70,
   "metadata": {
    "collapsed": false
   },
   "outputs": [
    {
     "data": {
      "text/plain": [
       "('01011100', str, '10000000', '00000010', dtype('uint8'))"
      ]
     },
     "execution_count": 70,
     "metadata": {},
     "output_type": "execute_result"
    }
   ],
   "source": [
    "import numpy as np\n",
    "\n",
    "x = np.array([0b1011100], dtype=np.uint8)\n",
    "y = x << 5\n",
    "z = x >> 5 #usuwa 11100\n",
    "bin = lambda x: np.binary_repr(x, width=8) #bo pracuję na uint8\n",
    "bin(x), type(bin(x)), bin(y), bin(z), z.dtype"
   ]
  },
  {
   "cell_type": "code",
   "execution_count": 72,
   "metadata": {
    "collapsed": false
   },
   "outputs": [
    {
     "name": "stdout",
     "output_type": "stream",
     "text": [
      "01011100\n",
      "00000001\n",
      "00100000\n",
      "01111100\n",
      "00010000\n",
      "00010000\n",
      "11111110\n",
      "11101111\n",
      "01001100\n"
     ]
    }
   ],
   "source": [
    "mask = np.array([1], dtype = np.uint8)\n",
    "print(bin(x),\n",
    "    bin(mask),\n",
    "    bin(mask<<5),\n",
    "    bin(x|(mask<<5)),\n",
    "    bin(mask<<4),\n",
    "    bin(x&(mask<<4)),\n",
    "    bin(~mask),\n",
    "    bin(~(mask<<4)),\n",
    "    bin(x & ~(mask <<4)),\n",
    "    sep='\\n')"
   ]
  },
  {
   "cell_type": "markdown",
   "metadata": {},
   "source": [
    "```c\n",
    "// wszystkie bity na 1\n",
    "DDRA = 0xFF;\n",
    "\n",
    "//0, 2, 7 portu A na wyjściowe (na 1), reszta na wejściowe (0)\n",
    "DDRA = (1<<7) | (1<<2) & 1;\n",
    "// można też\n",
    "DDRA = (1<<PA7) | (1<<PA2) & (1<<PA0);\n",
    "\n",
    "//0, 7 poru A na 1 *bez modyfikacji reszty ( |= )*\n",
    "PORTA |= (1<<0) | (1<<7);\n",
    "\n",
    "//odczyt 4 najbardziej znaczących bitów z A\n",
    "data = PINA >> 4;\n",
    "//przekombinowane, z wykładu:\n",
    "data = (PINA & (0xF0)) >> 4;\n",
    "\n",
    "//odracamy pin 3:\n",
    "PORTA ^= (1<<3);\n",
    "\n",
    "//check czy bit 3 jest ustawiony\n",
    "if(PINA & (1<<3));\n",
    "//check czy bit 3 jest wyzerowany\n",
    "if(! ( PINA & (1<<3) ) ); //WAŻNE IŻ !, nie ~\n",
    "```\n",
    "### Zadanko domowe:\n",
    "```c\n",
    "x = 0b00000011;\n",
    "x = (x<<1 | x>>3);\n",
    "```"
   ]
  },
  {
   "cell_type": "code",
   "execution_count": 127,
   "metadata": {
    "collapsed": false
   },
   "outputs": [
    {
     "name": "stdout",
     "output_type": "stream",
     "text": [
      "x: 00001111\n",
      "Kolejna rotacja!\n",
      "00001111 00000000 00001111\n",
      "00011110 00000000 00011110\n",
      "00111100 00000000 00111100\n",
      "01111000 00000000 01111000\n",
      "11110000 00000000 11110000\n",
      "11100000 00000001 11100001\n",
      "11000000 00000011 11000011\n",
      "10000000 00000111 10000111\n",
      "Kolejna rotacja!\n",
      "00001111 00000000 00001111\n",
      "00011110 00000000 00011110\n",
      "00111100 00000000 00111100\n",
      "01111000 00000000 01111000\n",
      "11110000 00000000 11110000\n",
      "11100000 00000001 11100001\n",
      "11000000 00000011 11000011\n",
      "10000000 00000111 10000111\n",
      "Kolejna rotacja!\n",
      "00001111 00000000 00001111\n",
      "00011110 00000000 00011110\n",
      "00111100 00000000 00111100\n",
      "01111000 00000000 01111000\n",
      "11110000 00000000 11110000\n",
      "11100000 00000001 11100001\n",
      "11000000 00000011 11000011\n",
      "10000000 00000111 10000111\n"
     ]
    }
   ],
   "source": [
    "x = np.array(0b1111, dtype=np.uint8);\n",
    "bin = lambda x: np.binary_repr(x, width=8) #bo pracuję na uint8\n",
    "print(\"x: {}\".format(bin(x)))\n",
    "\n",
    "for i in range(24):\n",
    "    i = i%8\n",
    "    if (i==0):\n",
    "        print(\"Kolejna rotacja!\")\n",
    "    shift_forward = (x<<i).astype(np.uint8)\n",
    "    shift_minus = (x>>(8-i)).astype(np.uint8)\n",
    "    result = shift_1 | shift_minus\n",
    "    print(bin(shift_forward), bin(shift_minus), bin(shift_forward | shift_minus))"
   ]
  },
  {
   "cell_type": "markdown",
   "metadata": {
    "collapsed": true
   },
   "source": [
    "# [Wykład 3](http://if.pw.edu.pl/~agatka/psm/wyklad_03.pdf) 8 marca\n",
    "\n",
    "## ~~goto~~ Przerwania\n",
    "\n",
    "No... takie ~~zło~~ goto z automatycznym powrotem do miejsca jego wywołania.\n",
    "\n",
    "Mogą je powodować zmiany odczytów z pinów albo sam kod programu.\n",
    "\n",
    "Warunki:\n",
    "* Globalny bit przerwań **SREG**-bit 7 musi być ustawiony\n",
    "* Bit tego konkretnego przerwania które odpalamy musi być ustawiony\n",
    "* Zaszedł trigger przerwania\n",
    "\n"
   ]
  },
  {
   "cell_type": "code",
   "execution_count": null,
   "metadata": {
    "collapsed": true
   },
   "outputs": [],
   "source": [
    "m"
   ]
  }
 ],
 "metadata": {
  "kernelspec": {
   "display_name": "Python 3",
   "language": "python",
   "name": "python3"
  },
  "language_info": {
   "codemirror_mode": {
    "name": "ipython",
    "version": 3
   },
   "file_extension": ".py",
   "mimetype": "text/x-python",
   "name": "python",
   "nbconvert_exporter": "python",
   "pygments_lexer": "ipython3",
   "version": "3.5.1"
  }
 },
 "nbformat": 4,
 "nbformat_minor": 0
}

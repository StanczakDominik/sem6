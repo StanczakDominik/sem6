{
 "cells": [
  {
   "cell_type": "markdown",
   "metadata": {},
   "source": [
    "# Wykład 1\n",
    "![1](QM1-1.jpg)\n",
    "![2](QM1-2.jpg)"
   ]
  },
  {
   "cell_type": "code",
   "execution_count": 1,
   "metadata": {
    "collapsed": false
   },
   "outputs": [
    {
     "name": "stdout",
     "output_type": "stream",
     "text": [
      "\u001b[0m\u001b[01;35mQM1-1.jpg\u001b[0m  \u001b[01;35mQM2-1.jpg\u001b[0m  \u001b[01;35mQM2-3.jpg\u001b[0m  \u001b[01;35mQM2-5.jpg\u001b[0m  Untitled.ipynb\r\n",
      "\u001b[01;35mQM1-2.jpg\u001b[0m  \u001b[01;35mQM2-2.jpg\u001b[0m  \u001b[01;35mQM2-4.jpg\u001b[0m  \u001b[01;35mQM2-6.jpg\u001b[0m\r\n"
     ]
    }
   ],
   "source": [
    "ls"
   ]
  },
  {
   "cell_type": "markdown",
   "metadata": {},
   "source": [
    "# Wykład 2, ćwiczenia 1\n",
    "![1](QM2-1.jpg)\n",
    "![2](QM2-2.jpg)\n",
    "![3](QM2-3.jpg)\n",
    "![4](QM2-4.jpg)\n",
    "![5](QM2-5.jpg)\n",
    "![6](QM2-6.jpg)"
   ]
  }
 ],
 "metadata": {
  "kernelspec": {
   "display_name": "Python 3",
   "language": "python",
   "name": "python3"
  },
  "language_info": {
   "codemirror_mode": {
    "name": "ipython",
    "version": 3
   },
   "file_extension": ".py",
   "mimetype": "text/x-python",
   "name": "python",
   "nbconvert_exporter": "python",
   "pygments_lexer": "ipython3",
   "version": "3.5.1"
  }
 },
 "nbformat": 4,
 "nbformat_minor": 0
}

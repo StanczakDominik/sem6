{
 "cells": [
  {
   "cell_type": "markdown",
   "metadata": {},
   "source": [
    "# Wykład 16.06.03\n",
    "\n",
    "### Równanie ciągłości dla Diraca\n",
    "\n",
    "$$ \\big[i \\hbar \\vec{\\gamma}^\\mu \\cdot \\vec{\\partial}_\\mu - m_0 c \\big] \\Phi(\\vec{x}^\\mu) = 0 $$\n",
    "\n",
    "Równanie na czterowektorach. Jeśli chodzi o $\\gamma$, liczby się wysypują, ale 4-macierze już nie. Jego hermitowskie sprzężenie:\n",
    "\n",
    "$$ \\big[-i \\hbar \\vec{\\partial}_\\mu [] \\cdot \\vec{\\gamma}^{\\mu \\dagger} - m_0 c \\big] \\Phi^\\dagger(\\vec{x}^\\mu) = 0 $$"
   ]
  },
  {
   "cell_type": "markdown",
   "metadata": {},
   "source": [
    "Typowo jak zwykle z równaniami ciągłości mnożymy z lewa przez $\\Phi^\\dagger$, drugie z prawa przez $\\Phi$, odejmujemy stronami (wybór stron mnożenia taki, żeby dojść do skalara).\n",
    "\n",
    "**reprezentacja Diraca macierzy $\\gamma$ przez macierze Pauliego**: $\\gamma^0 = (\\gamma_0)^\\dagger$, $-\\gamma^i = (\\gamma^i)^\\dagger$ ($i = 1, 2, 3$)"
   ]
  },
  {
   "cell_type": "markdown",
   "metadata": {},
   "source": [
    "Chcemy mieć równanie ciągłości typu $\\partial_\\mu \\text{coś}^\\mu = 0$. Ale mamy problem z dojściem tam bo tylko $\\gamma^0$ jest hermitowskie.\n",
    "\n",
    "wykorzystując znów rep Diraca: $(\\gamma^\\mu)^\\dagger = \\gamma^0 \\gamma^\\mu \\gamma^0$. Rozważmy więc $\\bar{\\Phi} = \\Phi^\\dagger \\gamma^0$ i przemnóżmy tym zamiast $\\Phi$,  $\\Phi^\\dagger$:\n",
    "\n",
    "Wykorzystując $\\gamma^0 \\gamma^ = 1$\n",
    "\n",
    "$$i\\hbar \\vec{\\partial}_\\mu \\cdot \\big( \\bar{\\Phi} \\vec{\\gamma}^\\mu \\Phi \\big) = 0$$\n",
    "\n",
    "Możeemy więc zdefiniować czteroprąd $\\vec{j}^\\mu = \\bar{\\Phi} \\vec{\\gamma}^\\mu \\Phi $ i skrócić\n",
    "\n",
    "$$\\vec{\\partial}_\\mu \\cdot \\vec{j}^\\mu = 0 $$\n",
    "\n",
    ">Fi z daszką\n",
    "\n",
    "$$j^0 = \\bar{\\Phi} \\gamma^0 \\Phi = \\Phi^\\dagger \\Phi = \\sum_{k=1}^4 |\\phi_k|^2$$\n",
    "\n",
    "(bo $\\Phi = [\\phi_1(\\vec{x}^\\mu), \\phi_2(\\vec{x}^\\mu), \\phi_3(\\vec{x}^\\mu), \\phi_4(\\vec{x}^\\mu)]^T$). Więc pierwsza składowa $j^0$ jest odpowiednikiem gęstości prawdopodobieństwa. Co oznacza że $\\phi^\\dagger \\phi$ nie jest skalarem i transformuje się jak składowa czterowektora!\n",
    "\n",
    "> Równanie Diraca jest ładniejsze estetycznie\n",
    "\n",
    "### Równanie Diraca z włączonym oddziaływaniem EM\n",
    "\n",
    "Korzystamy z $$\\vec{p} \\to \\vec{p} - e \\vec{A} / c$$\n",
    "\n",
    "i robimy z tego coś kwantowego:\n",
    "\n",
    "$$\\hbar (\\nabla - i e \\vec{A} /\\hbar c)/i$$"
   ]
  },
  {
   "cell_type": "markdown",
   "metadata": {},
   "source": [
    "$$ \\big[i \\hbar \\vec{\\gamma}^\\mu \\cdot (\\vec{\\partial}_\\mu + \\frac{ie}{\\hbar c} \\vec{A}) - m_0 c \\big] \\Phi(\\vec{x}^\\mu) = 0 $$\n",
    "\n",
    "I możemy z tego też wykombinować podobne rówananie\n",
    "\n",
    "$$ \\big[i \\hbar \\vec{\\gamma}^\\mu \\cdot (\\vec{\\partial}_\\mu - \\frac{ie}{\\hbar c} \\vec{A}) - m_0 c \\big] \\Phi_C(\\vec{x}^\\mu) = 0 $$\n",
    "\n",
    "gdzie $\\Phi_C$ jest drugim równaniem, opisującym cząstkę o jednakowym spinie $1/2$, masie $m$, przeciwnym ładunku $-e$. Są to pozytony.\n",
    "\n",
    "$\\Phi_C = S^{-1} \\Phi^*$, gdzie macierz $S$ była zdefiniowana po drodze."
   ]
  },
  {
   "cell_type": "markdown",
   "metadata": {},
   "source": [
    "### Zasada zachowania momentu pędu (65a)\n",
    "\n",
    "Równanie Diraca ma 4 składowe, ale tylko dwie są niezależne. To może być spin. Czy moment pędu jest zachowany ($[H, L] = 0$)?\n",
    "\n",
    "$\\gamma^0 = [[I, 0], [0, -I]]$; $\\gamma^i = [[0 \\sigma_i], [-\\sigma_i, 0]]$; $\\vec{\\partial}_\\mu = (\\frac{\\partial}{\\partial(ct)}, ...? \\cdot \\nabla)$"
   ]
  },
  {
   "cell_type": "markdown",
   "metadata": {},
   "source": [
    "Wychodzi że nie, nie jest to zerowe. Ale robiliśmy sam orbitalny, a teraz rozważymy\n",
    "\n",
    "$$\\vec{J} = \\vec{L} = \\frac{\\hbar}{2} \\vec{\\sigma}$$\n",
    "\n",
    "Wchodzi komutator dwóch macierzy sigma, wychodzi $[H, \\vec{J}] = 0$"
   ]
  },
  {
   "cell_type": "code",
   "execution_count": null,
   "metadata": {
    "collapsed": true
   },
   "outputs": [],
   "source": []
  }
 ],
 "metadata": {
  "kernelspec": {
   "display_name": "Python 3",
   "language": "python",
   "name": "python3"
  },
  "language_info": {
   "codemirror_mode": {
    "name": "ipython",
    "version": 3
   },
   "file_extension": ".py",
   "mimetype": "text/x-python",
   "name": "python",
   "nbconvert_exporter": "python",
   "pygments_lexer": "ipython3",
   "version": "3.5.1"
  }
 },
 "nbformat": 4,
 "nbformat_minor": 0
}

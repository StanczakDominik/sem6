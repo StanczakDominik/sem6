{
 "cells": [
  {
   "cell_type": "code",
   "execution_count": 14,
   "metadata": {
    "collapsed": false
   },
   "outputs": [
    {
     "data": {
      "image/png": "[encoded data removed]",
      "text/latex": [
       "$$\\frac{f_{0}}{\\frac{t^{2}}{\\tau^{2}} + 1}$$"
      ],
      "text/plain": [
       "  f₀  \n",
       "──────\n",
       " 2    \n",
       "t     \n",
       "── + 1\n",
       " 2    \n",
       "τ     "
      ]
     },
     "execution_count": 14,
     "metadata": {},
     "output_type": "execute_result"
    }
   ],
   "source": [
    "import sympy as sp\n",
    "sp.init_printing()\n",
    "\n",
    "t, tau, f0, hbar, m,n, omega = sp.symbols('t tau f_0 hbar m n omega', real=True, positive=True)\n",
    "f = f0/(1+(t/tau)**2)\n",
    "f"
   ]
  },
  {
   "cell_type": "code",
   "execution_count": 15,
   "metadata": {
    "collapsed": false
   },
   "outputs": [
    {
     "data": {
      "image/png": "[encoded data removed]",
      "text/latex": [
       "$$- \\frac{0.5 \\sqrt{2} i \\sqrt{n + 1}}{\\sqrt{\\hbar} \\sqrt{m} \\sqrt{\\omega}} \\left(- \\frac{f_{0} \\tau}{2} \\left(2 \\left(- i \\operatorname{Shi}{\\left (1.0 \\omega \\tau \\right )} - \\frac{\\pi}{2}\\right) \\cosh{\\left (1.0 \\omega \\tau \\right )} + 2 i \\left(\\operatorname{Chi}{\\left (1.0 \\omega \\tau \\right )} - \\frac{i \\pi}{2}\\right) \\sinh{\\left (1.0 \\omega \\tau \\right )}\\right) - \\frac{f_{0} \\tau}{2} \\left(2 \\left(i \\operatorname{Shi}{\\left (1.0 \\omega \\tau \\right )} - \\frac{\\pi}{2}\\right) \\cosh{\\left (1.0 \\omega \\tau \\right )} - 2 i \\left(\\operatorname{Chi}{\\left (1.0 \\omega \\tau \\right )} + \\frac{i \\pi}{2}\\right) \\sinh{\\left (1.0 \\omega \\tau \\right )}\\right)\\right)$$"
      ],
      "text/plain": [
       "                    ⎛       ⎛  ⎛                  π⎞                     ⎛    \n",
       "                    ⎜  f₀⋅τ⋅⎜2⋅⎜-ⅈ⋅Shi(1.0⋅ω⋅τ) - ─⎟⋅cosh(1.0⋅ω⋅τ) + 2⋅ⅈ⋅⎜Chi(\n",
       "            _______ ⎜       ⎝  ⎝                  2⎠                     ⎝    \n",
       "-0.5⋅√2⋅ⅈ⋅╲╱ n + 1 ⋅⎜- ───────────────────────────────────────────────────────\n",
       "                    ⎝                                            2            \n",
       "──────────────────────────────────────────────────────────────────────────────\n",
       "                                                                              \n",
       "                                                                              \n",
       "\n",
       "           ⅈ⋅π⎞              ⎞        ⎛  ⎛                 π⎞                 \n",
       "1.0⋅ω⋅τ) - ───⎟⋅sinh(1.0⋅ω⋅τ)⎟   f₀⋅τ⋅⎜2⋅⎜ⅈ⋅Shi(1.0⋅ω⋅τ) - ─⎟⋅cosh(1.0⋅ω⋅τ) - \n",
       "            2 ⎠              ⎠        ⎝  ⎝                 2⎠                 \n",
       "────────────────────────────── - ─────────────────────────────────────────────\n",
       "                                                                          2   \n",
       "──────────────────────────────────────────────────────────────────────────────\n",
       "                 ____                                                         \n",
       "               ╲╱ h̅ ⋅√m⋅√ω                                                   \n",
       "\n",
       "    ⎛               ⅈ⋅π⎞              ⎞⎞ \n",
       "2⋅ⅈ⋅⎜Chi(1.0⋅ω⋅τ) + ───⎟⋅sinh(1.0⋅ω⋅τ)⎟⎟ \n",
       "    ⎝                2 ⎠              ⎠⎟ \n",
       "───────────────────────────────────────⎟ \n",
       "                                       ⎠ \n",
       "─────────────────────────────────────────\n",
       "                                         \n",
       "                                         "
      ]
     },
     "execution_count": 15,
     "metadata": {},
     "output_type": "execute_result"
    }
   ],
   "source": [
    "-1j/hbar*sp.sqrt(hbar*(n+1)/2/m/omega)*sp.integrate(f*sp.exp(1j*omega*t), (t, -sp.oo, sp.oo))"
   ]
  },
  {
   "cell_type": "code",
   "execution_count": 16,
   "metadata": {
    "collapsed": false
   },
   "outputs": [
    {
     "ename": "AttributeError",
     "evalue": "module 'sympy' has no attribute 'inte'",
     "output_type": "error",
     "traceback": [
      "\u001b[1;31m---------------------------------------------------------------------------\u001b[0m",
      "\u001b[1;31mAttributeError\u001b[0m                            Traceback (most recent call last)",
      "\u001b[1;32m<ipython-input-16-89f042e64fa4>\u001b[0m in \u001b[0;36m<module>\u001b[1;34m()\u001b[0m\n\u001b[1;32m----> 1\u001b[1;33m \u001b[0msp\u001b[0m\u001b[1;33m.\u001b[0m\u001b[0minte\u001b[0m\u001b[1;33m\u001b[0m\u001b[0m\n\u001b[0m",
      "\u001b[1;31mAttributeError\u001b[0m: module 'sympy' has no attribute 'inte'"
     ]
    }
   ],
   "source": [
    "sp.inte"
   ]
  },
  {
   "cell_type": "code",
   "execution_count": null,
   "metadata": {
    "collapsed": true
   },
   "outputs": [],
   "source": []
  },
  {
   "cell_type": "code",
   "execution_count": null,
   "metadata": {
    "collapsed": true
   },
   "outputs": [],
   "source": []
  }
 ],
 "metadata": {
  "kernelspec": {
   "display_name": "Python 3",
   "language": "python",
   "name": "python3"
  },
  "language_info": {
   "codemirror_mode": {
    "name": "ipython",
    "version": 3
   },
   "file_extension": ".py",
   "mimetype": "text/x-python",
   "name": "python",
   "nbconvert_exporter": "python",
   "pygments_lexer": "ipython3",
   "version": "3.5.1"
  }
 },
 "nbformat": 4,
 "nbformat_minor": 0
}

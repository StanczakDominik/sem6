{
 "cells": [
  {
   "cell_type": "markdown",
   "metadata": {},
   "source": [
    "# Wyprowadzenie równania Pauliego z równania Diraca\n",
    "\n",
    "Bierzemy elektron w polu elektromagnetycznym.\n",
    "\n",
    "$$\\vec{A}_\\mu = (\\varphi, -\\vec{A})$$\n",
    "\n",
    "Hamiltonian:\n",
    "\n",
    "$$\\hat{H} = -i\\hbar c \\bar{\\alpha} \\cdot \\Big(\\nabla - \\frac{ie}{\\hbar c} \\vec{A} \\Big)\n",
    "+ m_0 c^2 \\beta + e \\varphi(\\vec{r}, t)$$"
   ]
  },
  {
   "cell_type": "markdown",
   "metadata": {},
   "source": [
    "Wszystko git gdyby nie niediagonalna $\\alpha$, która sprzęga układ dwóch równań\n",
    "\n",
    "Rozkładamy $\\Phi = [\\Phi_+; \\Phi_-]$"
   ]
  },
  {
   "cell_type": "markdown",
   "metadata": {},
   "source": [
    "W granicy nierelatywistycznej zachodzą:\n",
    "$$ m_0c^2 >>e\\varphi$$\n",
    "$$|\\hbar (\\Psi_\\pm)_t |  << |m_0 c^2 \\Psi_\\pm|$$\n",
    "\n",
    "Dla szybko zmiennej funkcji falowej mamy skoki, przejścia między poziomami energetycznymi - jeśli więc nie chcemy żeby nasz układ zmieniał energię, musimy nałożyć górną granicę na $\\frac{d}{dt}\\Psi_\\pm$"
   ]
  },
  {
   "cell_type": "markdown",
   "metadata": {},
   "source": [
    "Odseparowujemy rotację zespoloną ze stałą prędkością fazową $\\exp(-imc^2t/\\hbar)$. Efektywnie traktujemy człony poza $E=mc^2$ jako poprawki w rachunku zespolonym. Chcemy bowiem dostać z bieżącego równania Schrodingera.\n"
   ]
  }
 ],
 "metadata": {
  "kernelspec": {
   "display_name": "Python 3",
   "language": "python",
   "name": "python3"
  },
  "language_info": {
   "codemirror_mode": {
    "name": "ipython",
    "version": 3
   },
   "file_extension": ".py",
   "mimetype": "text/x-python",
   "name": "python",
   "nbconvert_exporter": "python",
   "pygments_lexer": "ipython3",
   "version": "3.5.1"
  }
 },
 "nbformat": 4,
 "nbformat_minor": 0
}

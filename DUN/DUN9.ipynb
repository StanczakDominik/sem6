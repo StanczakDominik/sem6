{
 "cells": [
  {
   "cell_type": "markdown",
   "metadata": {},
   "source": [
    "# DUN 2016.05.05\n",
    "\n",
    "Skończyliśmy na oscylatorach liniowych, nieliniowych.\n",
    "\n",
    "### **odwzorowanie okręgu**\n",
    "Inna klasa zjawisk mocno związanych, od strony dyskretnych odwzorowań.\n",
    "Quasiperiodyczność - niewspółmierne częstotliwości (nie omega, 2 omega, 3 omega...) - niewymierne stosunki częstotliwości\n",
    "\n",
    "\n",
    "*Oscylator (anharmoniczny) Duffinga* z harmoniczną siłą napędzającą\n",
    "$$\\ddot{\\theta} + a \\dot{\\theta} + a \\theta \\big(\\theta^2-1\\big) = B \\cos(t)$$\n",
    "Można to przedstawić jako sprzężony Duffing z harmonicznym, oscylującym jako $B\\cos(t)$. Zazwyczaj zakładamy że prawa strona nie ma wpływu na lewą; tutaj zrobimy inaczej.\n",
    "\n",
    "> Można tym modelować komórki mięśnia sercowego.\n",
    "\n",
    "Rozbicie na dwuwymiarowe odwzorowanie, układ dwóch równań na $\\theta_{n+1}, \\omega_{n+1}$. $\\omega$ to częstość chwilowa.\n",
    "\n",
    "Zjawisko jest nieokresowe i częstość (1/okres) jest zmienna.\n",
    "\n",
    "Po zaniku początkowych transientów $\\omega_n$ jest funkcją tylko $\\theta_n$.\n",
    "\n",
    "### Odwzorowanie okręgu\n",
    "\n",
    "### Odwzorowanie standardowe\n",
    "\n",
    "$$\\theta_{n+1} = \\Big(\\theta_n + \\Omega - \\frac{K}{2\\pi} \\sin(2\\pi\\theta_n)\\Big) \\text{mod } 1$$\n",
    "\n",
    "Dla liniowego $K=0$, wtedy dwie linie proste o nachyleniu 1 oddalone od $y=x$. Trajektoria zamyka się. Wymierne ułamki jako omega: trajektorie zamknięte. $\\omega = p/q$, mają związek z liczbą przecięć krzywych i prostej.\n",
    "\n",
    "Po włączeniu nieliniowości: nieliniowe wygięte krzywe. Klawisz F4 czyści w `circle.exe` historię. Dostajemy tą samą stabilną trajektorię.\n",
    "\n",
    "### Drgania synfazowe i mode locking\n",
    "\n",
    "Winding number: średnia zmiana fazy na iterację. Dla $K=0$ stała, częstość kołowa. Dla\n",
    "\n",
    "Średnia zmiana fazy: $\\lim_{n \\to \\infty} \\frac{\\theta_n-\\theta_0}{n}$ gdzie faza *nie jest ograniczona modulo*\n",
    "\n",
    "*Jęzory Arnolda - rejony dla odwzorowania standardowego* gdzie średnia zmiana fazy jest stała\n",
    "\n",
    "Cała zabawa z programami i Dynamics Solverem. Jest co kodzić. `:>`\n",
    "\n",
    "### Drogi do chaosu dla odwzorowania okręgu\n",
    "\n",
    "Intermitencja TEŻ jest sposobem dojścia do chaosu - od okna periodycznego w głąb chaosu"
   ]
  }
 ],
 "metadata": {
  "kernelspec": {
   "display_name": "Python 3",
   "language": "python",
   "name": "python3"
  },
  "language_info": {
   "codemirror_mode": {
    "name": "ipython",
    "version": 3
   },
   "file_extension": ".py",
   "mimetype": "text/x-python",
   "name": "python",
   "nbconvert_exporter": "python",
   "pygments_lexer": "ipython3",
   "version": "3.5.1"
  }
 },
 "nbformat": 4,
 "nbformat_minor": 0
}

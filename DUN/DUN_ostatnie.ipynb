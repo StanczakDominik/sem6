{
 "cells": [
  {
   "cell_type": "markdown",
   "metadata": {},
   "source": [
    "# DUN ostatni"
   ]
  },
  {
   "cell_type": "markdown",
   "metadata": {},
   "source": [
    "## Synchronizacja\n",
    "### Faza\n",
    "Da się to zrobić dla prostych przypadków jak figury Lissajous. Zawodzi przy trudniejszych.\n",
    "\n",
    "Metoda Gabora (rozwój telekomunikacji, faza potrzebna)\n",
    "\n",
    "Sygnał analityczny: sygnał + transformata hilberta sygnału\n",
    "\n",
    "$$\\psi(t) = s(t) + i \\bar{s} (t) = A \\exp (i \\psi(t) )$$\n",
    "\n",
    "$\\bar{s}(t)$ - transformata Hilberta sygnału.\n",
    "\n",
    "Chodzi o to, żeby sprowadzić sygnał do liczb zespolonych - wtedy można na pewno wydzielić moduł i fazę, która jest monotonicznie niemalejąca\n",
    "\n",
    "Warunek synchronizacji fazowej:\n",
    "\n",
    "$$|n\\phi_1 - m \\phi_2 | < C$$\n",
    "\n",
    "(Warunek synchronizacji częstotliwościowej: $n\\phi_1 = m \\phi_2 + C$)"
   ]
  },
  {
   "cell_type": "markdown",
   "metadata": {},
   "source": [
    "### Przykład synchronizacji fazowej\n",
    "### NAKODZIĆ\n",
    "Dwa sprzężone Rosslery.\n",
    "\n",
    "Faza się synchronizuje dla dużych $C$, amplituda nie!\n",
    "\n",
    "\"Nieprzetrwała synchronizacja\" - C=0.027 W12S6: częste okresowe przerwania synchronizacji. Dla tej niższej częstotliwości jeszcze częstsze, wręcz ciągłe!"
   ]
  },
  {
   "cell_type": "code",
   "execution_count": null,
   "metadata": {
    "collapsed": true
   },
   "outputs": [],
   "source": [
    "def rossler(r, t):\n",
    "    x1, y1, z1, x2, y2, z2 = r\n",
    "    return np.array([\n",
    "            \n",
    "        ])"
   ]
  },
  {
   "cell_type": "markdown",
   "metadata": {},
   "source": [
    "Oddech, rytm serca, podlega synchronizacji. Ale to nie są procesy ciągłe w czasie, a dyskretne, **punktowe**! A jednak ta sama dynamika. Whoa.\n",
    "\n",
    "Histogram fazy fajnym pomysłem.\n",
    "\n",
    "Synchronizacja fazy świetlików na drzewie!"
   ]
  },
  {
   "cell_type": "markdown",
   "metadata": {},
   "source": [
    "## Kontrola chaosu\n",
    "> Gdy tylko będziemy mieli dostatecznie duże komputery problem pogody zostanie rozwiązany. Wszystkie stabilne procesy będziemy przewidywać, wszystkie niestabilne procesy będziemy kontrolować\". - Von Neumann\n",
    "\n",
    "Automatyka - zwykle układy liniowe. A my możemy sterować też nieliniowymi!\n",
    "\n",
    "Stan chaotyczny - dopełnienie zbioru wszystkich niestabilnych orbit periodycznych układu w stanie, gdzie nie istnieje żadna stabilna orbita.\n",
    "\n",
    "Metody przesterowania - działamy super silnym zaburzeniem, żeby on wykonywał taką dynamikę jaką chcemy.\n",
    "\n",
    "Układy nieliniowe - silnie sprzężone między  - obrazowo - gasisz jedną lampkę, zapalają się dwie obok...\n",
    "\n",
    "Dla części warunków początkowych faktycznie śmiga. Nie dla wszystkich.\n",
    "\n",
    "**Stymulacja rezonansowa** - do układów z czasem dyskretnym - dobieramy składową siły periodycznej żeby mocno działać na układ. *Nie wymaga monitorowania układu, nie ma sprzężenia zwrotnego*. Trzeba znać niezaburzoną dynamikę układu."
   ]
  },
  {
   "cell_type": "markdown",
   "metadata": {},
   "source": [
    "### Metoda Grebogi, Ott, Yorke (OGY)\n",
    "Inna kategoria niż te z automatyki!\n",
    "Dynamika celu ograniczona, nie dowolna, ze zbioru orbit periodycznych układu (niestabilnych!).\n",
    "\n",
    "Przykład: Duffing: żółte dla jednego zestawu parametrów, czerwone i niebieskie dla innego.\n",
    "\n",
    "Znajdujemy stan okresowy (np. punkt stały, stabilny\\nie), stabilizujemy sytuację **w nim** przy pomocy małych zmian parametrów. (**ORBIT PATCHING WOWOWOWOW**)\n",
    "\n",
    "LINEARYZUJEMY RÓWNANIA DYNAMIKI W TYM PUNKCIE!!!\n",
    "\n",
    "Przesuwamy punkt stały tak, żeby nasza trajektoria znalazła się na ściągającej rozmaitości.\n",
    "\n",
    ">Panie władzo, te domy co tu tak jeżdzą, jak podjedzie mój, to ja wsadzę klucz i wejdę."
   ]
  },
  {
   "cell_type": "markdown",
   "metadata": {},
   "source": [
    "Zależnie od warunku początkowego, mamy przypadkowy czas trwania transientu przed powrotem układu do trajektorii ustabilizowanej, wymuszonej."
   ]
  },
  {
   "cell_type": "markdown",
   "metadata": {},
   "source": [
    "Działa też bez modelu matematycznego, na przykład: taśma magnetostrykcyjna.\n",
    "\n",
    "Mając odwzorowanie Poincare można małym zaburzeniem $p$ zrobić inną krzywą. Mając kilka takich krzywych można interpolować między nimi.\n",
    "\n",
    "Wady:\n",
    "1. Przybliżamy układ wielowymiarowy jednowymiarowym\n",
    "2. Nie uwzględnia histerezy, histereza w taśmie magnetostrykcyjnej być musi"
   ]
  },
  {
   "cell_type": "markdown",
   "metadata": {},
   "source": [
    "## Feedback control\n",
    "### Adaptive control (Huberman, Lumer 1990)\n",
    "Mając dwie trajektorię, rzeczywistą i żądaną, możemy zmienić parametr $p$ zakładając, że jest zależny od różnicy tych trajektorii (a la liniowo).\n",
    "\n",
    "### Metoda Pyragasa\n",
    "\n",
    "> Pieróg, bądź ciasto. - ekspert\n",
    "\n",
    "* Empiryczna\n",
    "* Ciągle śledzimy położenie\n",
    "* Działa na przekroju Poincare\n",
    "* Odpowiednio rzadkie przecięcia płaszczyzny Poincare\n",
    "* Uwaga na szum, może być irytujący \n",
    "\n",
    "Jeśli na wejście dorzucimy wyjście minus wyjście z opóźnieniem (**Takens?**), opóźnienie będące okresem JAKIEJŚ orbity, to ta orbita mogłaby się ustabilizować.\n",
    "\n",
    "### DLACZEGO TO DZIAŁA?"
   ]
  },
  {
   "cell_type": "markdown",
   "metadata": {},
   "source": [
    "* Obliczanie Lyapunova w kierunku prostopadłym do orbity \n",
    "* Zejście sprzężonych Rosslerów 3D do jednego 3D w synchronizacji tożsamościowej, 6D -> 3D"
   ]
  }
 ],
 "metadata": {
  "kernelspec": {
   "display_name": "Python 3",
   "language": "python",
   "name": "python3"
  },
  "language_info": {
   "codemirror_mode": {
    "name": "ipython",
    "version": 3
   },
   "file_extension": ".py",
   "mimetype": "text/x-python",
   "name": "python",
   "nbconvert_exporter": "python",
   "pygments_lexer": "ipython3",
   "version": "3.5.1"
  }
 },
 "nbformat": 4,
 "nbformat_minor": 0
}

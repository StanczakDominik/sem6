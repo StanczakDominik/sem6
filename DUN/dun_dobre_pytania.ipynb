{
 "cells": [
  {
   "cell_type": "markdown",
   "metadata": {},
   "source": [
    "# Bardzo dobre pytania z DUN\n",
    "### Bardzo subiektywny przegląd made by Dominik Stańczak\n",
    "\n",
    "WX SY oznacza wykład X slajd Y\n",
    "\n",
    "### \"Rozgrzewka\"\n",
    "* Jakie są zastosowania DUN?\n",
    "* Jak wygląda diagram bifurkacyjny odwzorowania logistycznego?\n",
    "* Układ dynamiczny. Jak to rozumieją DUNowcy? Czy może być stochastyczny?\n",
    "* Skąd wyrosły obecne DUNy? (3)\n",
    "* Co znaczy że układ jest ergodyczny?\n",
    "* Mapa Bernoulliego i orbity 2-periodyczne a przesunięcie Bernoulliego (ciąg binarny). Jak to działa?\n",
    "* Wykładnik Lyapunova, ścisłe wyrażenie nań, warto umieć wyprowadzić. Jaki jest sens tegoż?\n",
    " $$\\lambda(x_0) = \\lim_{N \\to \\infty} \\sum_{i=0}^{N-1} \\ln{|f'(x_i)|}$$\n",
    "* Kiedy punkt stały jest stabilny, a kiedy jedynie lokalnie stabilny?\n",
    "* Gęstość niezmiennicza. Jak *wygląda* jej wykres? Czym się różni od zwykłej gęstości dla jakiegoś odwzorowania?\n",
    "* Odwzorowanie logistyczne - gdzie możnaby je zastosować?\n",
    "* Czemu $r = 4$ dla logistycznego jest takie magiczne? *(podpowiedź: co robi z odcinkiem $(0, 1)$?)*\n",
    "* Basen atrakcji. Czym jest? Jak wygląda dla jakiegoś dowolnego odwzorowania które ma dwa punkty stabilne?\n",
    "* Bifurkacja podwajania okresu. Jak działa? Narysuj ją na wykresie widma mocy.\n",
    "* Twierdzenie Szarkowskiego - o co w nim chodzi? Czy jest spełnione np. dla odwzorowania Bernoulliego?\n",
    "* Jeśli w układzie zachodzi podwajanie okresu, co możemy powiedzieć o odwzorowaniu Poincare ($x_{n+1} = f(x_n)$) dla tego układu? *Będzie się zachowywało jak jedno ze znanych nam. Które?*\n",
    "* Niestabilność Rayleigha-Benarda. Jak ją pokazać w szklance?\n",
    "* Jak działa przekrój stroboskopowy?\n",
    "* Biełusow-Żabotyński. Co rozgryźli fajnego i jakimi narzędziami to pokazali? Dlaczego jest niesamowite to, że tam jest 6-cykl?\n",
    "\n",
    "### Konkretne\n",
    "* Jak sprawdzić, czy szum (szereg czasowy) jest deterministyczny, czy jednak losowy?\n",
    "* Czym są okna periodyczne?\n",
    "* W2 S2 pytanie o chaotyczność układu wahadła z tłumieniem, odpowiedź z wykładu: czas jest parametrem więc mamy trzy równania. Gdzie tu jest błąd? :) <a href=\"https://en.wikipedia.org/wiki/Poincar%C3%A9%E2%80%93Bendixson_theorem\">Podpowiedź</a>\n",
    "* Przekrój Poincare, JJŻ mówił o trudnych przypadkach z geometrią. Czy nie idzie po prostu wykombinować macierzy zmiany bazy, walnąć nią nasze wektory stanu i plotnąć przecięcia z $x'=0$ ?\n",
    "* Mieszanie topologiczne, czemu jest warunkiem koniecznym na chaos? Przykład: Ciąg $x_{n+1} = 2 x_n$. Czy spełnia warunek że dwa początkowe punkty się od siebie wykładniczo oddalają? Czy mimo tego jest chaotyczny?\n",
    "* W2 S9 odległość od punktu stałego a związek z Lypaunovem\n",
    "* Jak zweryfikować następujące, W2 S12?\n",
    " >\"Układ jest ergodyczny jesli miara niezmiennicza nie zależy od warunku początkowego.\"\n",
    "\n",
    "* <a href=\"http://mathworld.wolfram.com/Frobenius-PerronEquation.html\">Operator Frobenius-Perona</a>. Czy da się go narysować, policzyć numerycznie?\n",
    "* **Miara niezmiennicza** (nie gęstość!) - czy chodzi o podejście \"od tyłu\" do iteracji, w sytuacji gdzie wchodząc w głąb iteracji branchujemy się na fraktalne rozejścia?\n",
    "$$\\mu(S) = \\mu(f^{-1} (S))$$\n",
    "* W3 S7, bifurkacje - rozkminić programami jak to wygląda, przerobić te przykłady\n",
    "* Korzystając z wykresu diagramu bifurkacyjnego, jaki maksymalny okres orbity występuje w logistycznym dla $r=3.1$, $r=3.4$, $r=3.5$, $r = 3.567$ ? *(ostatnie jest podchwytliwe - punkt akumulacji!)*\n",
    "<img src=\"feigenbaum.png\">\n",
    "* Przypomnij sobie rysunek z definicji wykładnika Lyapunova - rozciągający\\kurczący się odcinek między dwoma punktami zaczynającymi blisko siebie. Narysuj podobny rysunek, gdy $r=r_{ms}$, dla orbity superstabilnej. <a href=\"https://de.wikipedia.org/wiki/Datei:Dollarnote_siegel_hq.jpg\">*podpowiedź*</a>\n",
    "* Jak rozróżnić po obrazkach orbitę superstabilną i niesuperstabilną? Czy orbita W3S10 $r=3.2364$ dlatego nie jest do końca superstabilna, że 2-cykl w tym $r$ przechodzi przez $x=0.5$ (maksimum odwzorowania, znikający współczynnik stabilności) tylko w połowie swoich iteracji, i liniowa analiza zawodzi przez to że $\\lambda$ jest różne w różnych $x$?\n",
    "* Czym jest bifurkacja tangencjalna?\n",
    "* Jaki jest związek między twierdzeniem Takensa, skończonymi różnicami na pochodne i szeregiem Taylora?\n"
   ]
  }
 ],
 "metadata": {
  "kernelspec": {
   "display_name": "Python 3",
   "language": "python",
   "name": "python3"
  },
  "language_info": {
   "codemirror_mode": {
    "name": "ipython",
    "version": 3
   },
   "file_extension": ".py",
   "mimetype": "text/x-python",
   "name": "python",
   "nbconvert_exporter": "python",
   "pygments_lexer": "ipython3",
   "version": "3.5.1"
  }
 },
 "nbformat": 4,
 "nbformat_minor": 0
}

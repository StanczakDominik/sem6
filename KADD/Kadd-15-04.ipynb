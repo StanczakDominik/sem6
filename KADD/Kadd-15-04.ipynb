{
 "cells": [
  {
   "cell_type": "markdown",
   "metadata": {},
   "source": [
    "# 2016-04-15 KADD\n",
    "\n",
    "### Pobieranie próby, estymatory, histogram\n",
    "\n",
    "Próba - wybieramy pewną ilość reprezentatów z populacji i na nich robimy jakąśtam analizę.\n",
    "\n",
    "> Samplowanie. Czyli najpierw bierzemy sample, a potem przebieramy się za roboty i jest Daft Punk.\n",
    "\n",
    "Estymatory nieobciążone - te, które nie zależą od liczby pomiarów i cały czas zbiegają dodając kolejne pomiary do tej samej wartości\n",
    "\n",
    "# Graficznie"
   ]
  },
  {
   "cell_type": "code",
   "execution_count": 24,
   "metadata": {
    "collapsed": false
   },
   "outputs": [
    {
     "data": {
      "image/png": "[encoded data removed]",
      "text/plain": [
       "<matplotlib.figure.Figure at 0x7fc934a19b38>"
      ]
     },
     "metadata": {},
     "output_type": "display_data"
    }
   ],
   "source": [
    "import numpy as np\n",
    "import matplotlib.pyplot as plt\n",
    "%matplotlib inline\n",
    "N=10000\n",
    "Nbins = 100\n",
    "x  = np.random.normal(size=N)\n",
    "plt.hist(x, bins=Nbins, normed=True, linewidth=0);"
   ]
  },
  {
   "cell_type": "markdown",
   "metadata": {},
   "source": [
    "### Próby z rozkładów cząstkowych\n",
    "Dzielimy populację G na podpopulacje $G_i$\n",
    "\n",
    "Średnia z populacji $\\hat{x}$, z próby $\\bar{X}$\n",
    "\n",
    "Estymator podpopulacji nie może estymować populacji, chyba że podpopulacje weźmiemy również z wagami - jak często element tej podpopulacji występuje w całej populacji\n",
    "\n",
    ">No, to jest Bayes, nie?\n",
    "\n",
    "### Próba ze skończonej populacji bez uzupełniania\n",
    "> Wziąć studenta, odpytać, rozstrzelać.\n",
    "\n",
    "Każdy pomiar wpływa na kolejny. To nie jest do końca losowanie próby bo *available set* zmienia się za każdym razem\n",
    "\n",
    "Mamy populację $y_N$, bierzemy z niej n ludków $X_n$\n",
    "\n",
    "$P(y_i) = const$, więc $E(y) = \\frac{\\sum y_i}{N}$\n",
    "\n",
    "Wariancję trzeba poprawić, bo jest obciążona.\n",
    "\n",
    "Średnia musi być stała, jak przed chwilą powiedzieliśmy. Ale mamy $N$ elementów w próbie, więc średnia z nich też by mogła być dowolna a niekoniecznie stała jak ta średnia. Więc żeby to się zgadzało z tym warunkiem, musimy dać jeszcze jedno równanie: powyższe $E(y) = \\frac{\\sum y_i}{N}$, gdzie $E(y) = \\bar{y}$ jest naszą stałą. Dodatkowe równanie, słowem.\n",
    "\n",
    "Więc dla średniego kwadratu mamy liczbę stopni swobody $n-1$ - n zmiennych i 1 warunek na nie. Stąd $(n-1)^{-1}$ w RMS.\n",
    "\n",
    "### Pobieranie próby z rozkładu normalnego\n",
    "\n",
    "Chi^2 - suma kwadratów wartości\n",
    "1. Bierzemy rozkład normalny\n",
    "2. Odejmujemy wartości średnie\n",
    "3. Robimy sumy kwadratów\n",
    "4. Mamy chi^2\n",
    "5. Rozkład gęstości prawdopodobieństwa chi^2 \n",
    "\n",
    "Suma $\\chi^2$ o $n_1$, $n_2$ stopniach swobody też ma rozkład $\\chi^2$ o $n_1+n_2$ stopniach swobody.\n",
    "\n",
    "Im mniejsza wartość $\\chi^2$ tym pozornie słuszniejszy wynik.\n",
    "\n",
    "Miara zaufania: $W(\\chi^2) = 1-F(\\chi^2) = p = 1-\\alpha$\n",
    "\n",
    "$p$ - poziom ufności, często w procentach\n",
    "\n",
    "W ogólnym przypadku dla dowolnej średniej z gaussa i dowolnej wariancji tegoż można przeskalować, pokombinować.\n",
    "\n",
    "\n",
    "\n"
   ]
  },
  {
   "cell_type": "code",
   "execution_count": null,
   "metadata": {
    "collapsed": true
   },
   "outputs": [],
   "source": []
  }
 ],
 "metadata": {
  "kernelspec": {
   "display_name": "Python 3",
   "language": "python",
   "name": "python3"
  },
  "language_info": {
   "codemirror_mode": {
    "name": "ipython",
    "version": 3
   },
   "file_extension": ".py",
   "mimetype": "text/x-python",
   "name": "python",
   "nbconvert_exporter": "python",
   "pygments_lexer": "ipython3",
   "version": "3.5.1"
  }
 },
 "nbformat": 4,
 "nbformat_minor": 0
}

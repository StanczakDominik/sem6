{
 "cells": [
  {
   "cell_type": "markdown",
   "metadata": {},
   "source": [
    "# Szukanie kwantyla\n",
    "\n",
    "Mamy sobie rozkład prawdopodobieństwa, załóżmy na ten przykład,\n",
    "\n",
    "$f(x) = \\exp{(-x)}$, $x \\in (0, \\infty)$\n",
    "\n",
    "Dystrybuantę z tego łatwo policzyć,\n",
    "\n",
    "$F(x) = 1-\\exp{(-x)}$"
   ]
  },
  {
   "cell_type": "code",
   "execution_count": 2,
   "metadata": {
    "collapsed": false
   },
   "outputs": [
    {
     "data": {
      "text/plain": [
       "[<matplotlib.lines.Line2D at 0x7fd79d88f160>]"
      ]
     },
     "execution_count": 2,
     "metadata": {},
     "output_type": "execute_result"
    },
    {
     "data": {
      "image/png": "[encoded data removed]",
      "text/plain": [
       "<matplotlib.figure.Figure at 0x7fd79f90b400>"
      ]
     },
     "metadata": {},
     "output_type": "display_data"
    }
   ],
   "source": [
    "import numpy as np\n",
    "import matplotlib.pyplot as plt\n",
    "% matplotlib inline\n",
    "\n",
    "def f(x):\n",
    "    return np.exp(-x)\n",
    "\n",
    "def F(x):\n",
    "    return 1-np.exp(-x)\n",
    "\n",
    "#tablica x do narysowania dystrybuanty\n",
    "\n",
    "x = np.linspace(0, 10, 10000)\n",
    "y = F(x) #też tablica\n",
    "plt.plot(x, y)\n"
   ]
  },
  {
   "cell_type": "markdown",
   "metadata": {},
   "source": [
    "No to jak w tym znaleźć kwantyl. Załóżmy że szukamy kwantyla rzędu $r=0.5$ (to jest efektywnie mediana). Czyli efektywnie musimy znaleźć pierwiastek równania $y(x) = F(x)-r$. Dla takich porządnych monotonicznych funkcji jest na to prosty trik:"
   ]
  },
  {
   "cell_type": "code",
   "execution_count": 6,
   "metadata": {
    "collapsed": false
   },
   "outputs": [
    {
     "data": {
      "text/plain": [
       "(0.69306930693069302, 0.49996106166925902)"
      ]
     },
     "execution_count": 6,
     "metadata": {},
     "output_type": "execute_result"
    },
    {
     "data": {
      "image/png": "[encoded data removed]",
      "text/plain": [
       "<matplotlib.figure.Figure at 0x7fd79d77ed68>"
      ]
     },
     "metadata": {},
     "output_type": "display_data"
    }
   ],
   "source": [
    "r = 0.5\n",
    "plt.plot(x,y) #wykres funkcji\n",
    "plt.plot(x,y-r) #wykres funkcji przesuniętej w dół o r, tu: zielony\n",
    "plt.plot(x,np.abs(y-r)) #wykres modułu funkcji przesuniętej w dół o r, tu: czerwony\n",
    "                        #MYK: dystrybuanta była monotoniczna (dystrybuanty generalnie zawsze są),\n",
    "                        #więc to co narysowaliśmy ma tylko jedno łatwo identyfikowalne minimum takie że\n",
    "                        #F(x_min) = r, a abs(F(x_min)-r) = 0 - więc nasze x_min to nasz kwantyl\n",
    "plt.plot((0,10),(0.5,0.5))\n",
    "index_minimum = np.argmin(np.abs(y-r))\n",
    "x_min, y_min = x[index_minimum], y[index_minimum]\n",
    "plt.scatter(x_min,y_min)\n",
    "plt.scatter(x_min,y_min-r)\n",
    "x_min, y_min"
   ]
  },
  {
   "cell_type": "markdown",
   "metadata": {},
   "source": [
    "Na tej podstawie jak chcemy być fikuśni to możemy w ogóle zrobić funkcję szukającą tego kwantyla:"
   ]
  },
  {
   "cell_type": "code",
   "execution_count": 4,
   "metadata": {
    "collapsed": false
   },
   "outputs": [
    {
     "data": {
      "text/plain": [
       "0.69306930693069302"
      ]
     },
     "execution_count": 4,
     "metadata": {},
     "output_type": "execute_result"
    }
   ],
   "source": [
    "def find_kwantyl(r, x, y):\n",
    "    \"\"\"\n",
    "    r: rząd kwantyla\n",
    "    x: tablica x\n",
    "    y: tablica y wartości dystrybuanty dla powyższej tablicy x\n",
    "    \n",
    "    zwraca: kwantyl w sensie takie x dla którego dystrybuanta funkcji F wynosi r PRZY ZAŁOŻENIU że F jest monotoniczna\n",
    "    \"\"\"\n",
    "    index_minimum = np.argmin(np.abs(y-r))\n",
    "    return x[index_minimum]\n",
    "\n",
    "find_kwantyl(0.5, x, y)"
   ]
  },
  {
   "cell_type": "markdown",
   "metadata": {},
   "source": [
    "Dla przypadku gdzie gęstość prawdopodobieństwa wynosi $\\cosh(x)^{-2}$:"
   ]
  },
  {
   "cell_type": "code",
   "execution_count": 5,
   "metadata": {
    "collapsed": false
   },
   "outputs": [
    {
     "data": {
      "text/plain": [
       "(0.54905490549054903, 0.49981154719800369)"
      ]
     },
     "execution_count": 5,
     "metadata": {},
     "output_type": "execute_result"
    },
    {
     "data": {
      "image/png": "[encoded data removed]",
      "text/plain": [
       "<matplotlib.figure.Figure at 0x7fd79d7ca828>"
      ]
     },
     "metadata": {},
     "output_type": "display_data"
    }
   ],
   "source": [
    "def f2(x):\n",
    "    return np.cosh(x)**-2\n",
    "\n",
    "def F2(x):\n",
    "    return np.tanh(x)\n",
    "\n",
    "Y2 = F2(x) #nowa tablica dystrybuant\n",
    "plt.plot(x, Y2)\n",
    "\n",
    "x_kwantyl2 = find_kwantyl(0.5, x, Y2)\n",
    "y_kwantyl2 = F2(x_kwantyl2)\n",
    "plt.scatter(x_kwantyl2, y_kwantyl2)\n",
    "x_kwantyl2, y_kwantyl2"
   ]
  }
 ],
 "metadata": {
  "kernelspec": {
   "display_name": "Python 3",
   "language": "python",
   "name": "python3"
  },
  "language_info": {
   "codemirror_mode": {
    "name": "ipython",
    "version": 3
   },
   "file_extension": ".py",
   "mimetype": "text/x-python",
   "name": "python",
   "nbconvert_exporter": "python",
   "pygments_lexer": "ipython3",
   "version": "3.5.1"
  }
 },
 "nbformat": 4,
 "nbformat_minor": 0
}

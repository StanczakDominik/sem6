{
 "cells": [
  {
   "cell_type": "markdown",
   "metadata": {},
   "source": [
    "# Sieci 28.04.16\n",
    "\n",
    "### Teoria pola średniego dla szt. sieci neuronowej\n",
    "$$<s_i> = \\tanh(\\beta h_i)$$\n",
    "\n",
    "Wyodrębniamy neuron i opisujemy wpływ od jego sąsiadów pole średnie (*dressed test particle*, trochę jak)\n",
    "\n",
    "Równanie uwikłane -> przekształcenia -> czynnik proporcjonalny do liczby wzorców - pole zewnętrzne $h^{\\text{ext}}$. Osłabia pole zewnętrzne. Gdyby nie czynnik $1/N$, mielibyśmy kichę.\n",
    "\n",
    "Zakładamy po drodze że średnie pole $J_{ij} = J/N$\n",
    "\n",
    "Czyli jak na FSiT szukamy pierwiastków równania nieliniowego\n",
    "\n",
    "Ćwierćkolisty wykres $<S>(T)$ z wypłaszczeniem po lewej na górze, temperatura krytyczna. W temperaturze krytycznej $T_c$ sieć niczego nie pamięta, cała dynamika układu jest stochastyczna, brak korelacji historycznej. Ising, no. :)\n",
    "\n",
    "### MEAN FIELD EQUATIONS:\n",
    "Wnioski z powyższego. $\\alpha$ - zapełnienie, średnia liczba wzorców $P_c/N$\n",
    "$$<m> = \\frac{1}{P} \\sum_{\\mu=1}^P <m^\\mu>$$\n",
    "Analogiczny ćwierćkolisty wykres z płaskim etapem:\n",
    "\n",
    "Sypią się **wszystkie** wzorce, nie tylko np. ostatni! Bo stochastycznie, Ising, szum temperaturowy!\n",
    "\n",
    "### SIZE EFFECT\n",
    "\n",
    "> Storage capacity of ANN\n",
    "\n",
    "Dla dużych sieci, nieco powyżej $\\alpha =0.138: 0.14$ duży peak histogramu overlapu do m = 1 (znalazł wzorzec)\n",
    "\n",
    "Do mniejszych - pojawiają się atraktory pasożytnicze ale większość czasu spędza i tak w tym-tamtym\n",
    "\n",
    "Dla $\\alpha = 0.16$ dla dużej sieci może być gorzej niż dla małej! Histogram dla $N=3000$: dwa duże gaussy na m = 1 i m = 0.3\n",
    "\n",
    "Dla tego samego $\\alpha$ i $N=500$  - lepiej niż dla $N=3000$! ZONK!\n",
    "\n",
    "Ogólnie: te sieci są często nieintuicyjne.\n",
    "\n",
    "> Zdolności pamięciowe różnie zależą od rozmiaru sieci i od tego, w jaki sposób jest zrealizowana - kod, hardware... może mieć dobrą, słabą pojemność.\n",
    "\n",
    "Generalnie chodzi o limity asymptotyczne algorytmów.\n"
   ]
  }
 ],
 "metadata": {
  "kernelspec": {
   "display_name": "Python 3",
   "language": "python",
   "name": "python3"
  },
  "language_info": {
   "codemirror_mode": {
    "name": "ipython",
    "version": 3
   },
   "file_extension": ".py",
   "mimetype": "text/x-python",
   "name": "python",
   "nbconvert_exporter": "python",
   "pygments_lexer": "ipython3",
   "version": "3.5.1"
  }
 },
 "nbformat": 4,
 "nbformat_minor": 0
}

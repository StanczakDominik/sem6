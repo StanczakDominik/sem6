{
 "cells": [
  {
   "cell_type": "markdown",
   "metadata": {},
   "source": [
    "# Zbieżność do minimum energii w sieci Hopfielda\n",
    "\n",
    "Załóżmy sieć Hopfielda o $n$ neuronach i asynchronicznej dynamice (zmieniamy tylko jeden neuron na raz). W bieżącej iteracji $i$ wybieramy jeden neuron $k$.\n",
    "\n",
    "Istnieją dwie opcje:\n",
    "1. Neuron nie zmienia stanu\n",
    "$$S_k^{i+1} = S_k^i$$\n",
    "Skoro w sieci nie zaszły żadne zmiany, to jej energia też nie może się zmienić:\n",
    "$$E_k^{i+1} = E_k^i$$\n",
    "\n",
    "2. Neuron zmienia stan\n",
    "$$S_k^{i+1} = -S_k^i$$\n",
    "\n",
    "Energia dla bieżącego elementu wynosi\n",
    "$$ E_k^i = -\\Big(\\sum_{j=1}^n (J_{jk} S_j^i S_k^i) + h_k S_k^i\\Big)$$\n",
    "Gdzie $h_k$ to pole zewnętrzne, niezależne od czasu i liczby iteracji.\n",
    "Różnica energii w tym przypadku (podstawiając $S_j^{i+1} = S_j^i$, słuszne dla $k \\neq j$):\n",
    "$$ \\Delta E = E_k^{i+1} - E_k^i $$\n",
    "$$ = -\\Big(\\sum_{j=1}^n (J_{jk} S_j^{i+1} S_k^{i+1}) + h_k S_k^{i+1}\\Big) +\\Big(\\sum_{j=1}^n (J_{jk} S_j^i S_k^i) + h_k S_k^i\\Big)$$\n",
    "\n",
    "\n",
    "\n",
    "Za: http://perso.ens-lyon.fr/eric.thierry/Graphes2010/alice-julien-laferriere.pdf "
   ]
  },
  {
   "cell_type": "markdown",
   "metadata": {},
   "source": [
    "$$ = \\sum_{j=1}^n J_{jk} S_j (S_k^i - S_k^{i+1}) + h_k (S_k^i - S_k^{i+1}) $$\n",
    "$$ = (S_k^i - S_k^{i+1}) \\Big( \\sum_{j=1}^n J_{jk} S_j + h_k \\Big) $$"
   ]
  },
  {
   "cell_type": "markdown",
   "metadata": {},
   "source": [
    "Podstawiając $S_k^{i+1} = -S_k^i$:"
   ]
  },
  {
   "cell_type": "markdown",
   "metadata": {},
   "source": [
    "$$ = (S_k^i + S_k^{i}) \\Big( \\sum_{j=1}^n J_{jk} S_j + h_k \\Big) $$\n",
    "$$ = 2 S_k^i \\Big( \\sum_{j=1}^n J_{jk} S_j + h_k \\Big) $$\n",
    "$$ = (-2) \\Bigg(-\\Big( \\sum_{j=1}^n J_{jk} S_j S_k^i + h_k S_k^i \\Big)\\Bigg) $$\n",
    "$$ = -2 E_k^i = \\Delta E $$"
   ]
  },
  {
   "cell_type": "code",
   "execution_count": null,
   "metadata": {
    "collapsed": true
   },
   "outputs": [],
   "source": []
  }
 ],
 "metadata": {
  "kernelspec": {
   "display_name": "Python 3",
   "language": "python",
   "name": "python3"
  },
  "language_info": {
   "codemirror_mode": {
    "name": "ipython",
    "version": 3
   },
   "file_extension": ".py",
   "mimetype": "text/x-python",
   "name": "python",
   "nbconvert_exporter": "python",
   "pygments_lexer": "ipython3",
   "version": "3.5.1"
  }
 },
 "nbformat": 4,
 "nbformat_minor": 0
}

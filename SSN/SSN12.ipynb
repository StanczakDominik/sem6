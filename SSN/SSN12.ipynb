{
 "cells": [
  {
   "cell_type": "markdown",
   "metadata": {},
   "source": [
    "# Magnetyzm a sieci neuronowe\n",
    "> Czyli co było kiedyś na WF PW w polskiej szkole magnetyzmu prof. Szczeniowskiego, dyrektora IF PW\n",
    "\n",
    "### Atom wieloelektronowy (niewymagane na egzaminie)\n",
    "Właściwości magnetyczne elektronu\n",
    "* Moment orbitalny ~ moment magnetyczny\n",
    "$$\\hat{\\mu}_L = - \\frac{g_L \\mu_B}{\\hbar} \\hat{L}$$\n",
    "$$g_L = 1$$\n",
    "* Moment pędu spinowy każdego elektronu - moment pędu spinowego elektronu\n",
    "$$ \\hat{\\mu}_S = - \\frac{g_S \\mu_B}{\\hbar} \\hat{S}$$\n",
    "$$g_S = 2$$\n",
    "\n",
    "Oba operatory $\\hat{L}, \\hat{S}$ mają wartości własne typu $i(i+1)\\hbar^2$, dla $\\hat{S}$ $i=s=1/2$"
   ]
  },
  {
   "cell_type": "markdown",
   "metadata": {},
   "source": [
    "### Sprzężenia spin-orbita\n",
    "\n",
    "$$\\vec{\\mu} = \\vec{\\mu}_L + \\vec{\\mu}_S$$\n",
    "\n",
    "$$\\vec{J} = \\vec{L} + \\vec{S}$$\n",
    "\n",
    "* Gdy $\\vec{J} = 0 $, mówimy o diamagnetykach.\n",
    "* Gdy $\\vec{J} \\neq 0$ ale $\\sum \\vec{J} = 0$ (czyli: spiny są, ale mają losowe nieskorelowane kierunki) mówimy o paramagnetykach. Zewnętrzne pole magnetyczne porządkuje spiny (suma niezerowa).\n",
    "* Gdy kierunki są skorelowane, suma jest niezerowa i mówimy o ferromagnetykach. Mają oddziaływanie wymienne między momentami magnetycznymi atomu, które odpowiada za porządkowanie spinów.\n"
   ]
  },
  {
   "cell_type": "markdown",
   "metadata": {},
   "source": [
    "* Heisenberg -> hamiltionian\n",
    "* Weiss -> pole molekularne, wytłumaczone później przez Heisenberga"
   ]
  },
  {
   "cell_type": "markdown",
   "metadata": {},
   "source": [
    "### Model Isinga\n",
    "hyhyhy\n",
    "\n",
    "### Szkła spinowe:\n",
    "\n",
    "Oddziaływanie obejmuje całę próbkę\n",
    "$$J_{ij}(d) \\sim \\frac{\\cos(kd)}{(kd)^3}$$\n",
    "\n",
    "Reszta generalnie jak w Isingu"
   ]
  }
 ],
 "metadata": {
  "kernelspec": {
   "display_name": "Python 3",
   "language": "python",
   "name": "python3"
  },
  "language_info": {
   "codemirror_mode": {
    "name": "ipython",
    "version": 3
   },
   "file_extension": ".py",
   "mimetype": "text/x-python",
   "name": "python",
   "nbconvert_exporter": "python",
   "pygments_lexer": "ipython3",
   "version": "3.5.1"
  }
 },
 "nbformat": 4,
 "nbformat_minor": 0
}

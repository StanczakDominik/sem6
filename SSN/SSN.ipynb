{
 "cells": [
  {
   "cell_type": "markdown",
   "metadata": {},
   "source": [
    "# (sztuczne) Sieci Neuronowe"
   ]
  },
  {
   "cell_type": "markdown",
   "metadata": {},
   "source": [
    "# Wykład 1"
   ]
  },
  {
   "cell_type": "markdown",
   "metadata": {},
   "source": [
    "# Wykład 2"
   ]
  },
  {
   "cell_type": "markdown",
   "metadata": {},
   "source": [
    "# Wykład 5 - an interlude with Hitler"
   ]
  },
  {
   "cell_type": "code",
   "execution_count": 3,
   "metadata": {
    "collapsed": false
   },
   "outputs": [
    {
     "data": {
      "text/plain": [
       "<matplotlib.image.AxesImage at 0x7f0088024ba8>"
      ]
     },
     "execution_count": 3,
     "metadata": {},
     "output_type": "execute_result"
    },
    {
     "data": {
      "image/png": "[encoded data removed]",
      "text/plain": [
       "<matplotlib.figure.Figure at 0x7f00940eda90>"
      ]
     },
     "metadata": {},
     "output_type": "display_data"
    }
   ],
   "source": [
    "import numpy as np\n",
    "import matplotlib.pyplot as plt\n",
    "import matplotlib.cm\n",
    "%matplotlib inline\n",
    "\n",
    "N=5\n",
    "threshold = 0\n",
    "\n",
    "hitler = 2*np.array([\n",
    "        [1, 0, 1, 1, 1],\n",
    "        [1, 0, 1, 0, 0],\n",
    "        [1, 1, 1, 1, 1],\n",
    "        [0, 0, 1, 0, 1],\n",
    "        [1, 1, 1, 0, 1]          \n",
    "        ])-1     \n",
    "smiley = 2*np.array([\n",
    "        [0, 1, 0, 1, 0],\n",
    "        [0, 0, 0, 0, 0],\n",
    "        [0, 0, 0, 0, 0],\n",
    "        [1, 0, 0, 0, 1],\n",
    "        [0, 1, 1, 1, 0]          \n",
    "        ])-1\n",
    "\n",
    "images = [hitler, smiley]\n",
    "vectors = [image.reshape(N**2) for image in images]\n",
    "outers = [np.outer(vector, vector)/N**2 for vector in vectors]\n",
    "synaptic_array = np.sum(outers,axis=0)\n",
    "figure = plt.figure()\n",
    "plt.imshow(-smiley, interpolation='nearest', cmap = 'gray')"
   ]
  },
  {
   "cell_type": "code",
   "execution_count": 4,
   "metadata": {
    "collapsed": false
   },
   "outputs": [
    {
     "name": "stdout",
     "output_type": "stream",
     "text": [
      "[0.12, -0.20000000000000001]\n",
      "[0.28000000000000003, -1.0]\n"
     ]
    },
    {
     "data": {
      "text/plain": [
       "<matplotlib.image.AxesImage at 0x7f008971a9b0>"
      ]
     },
     "execution_count": 4,
     "metadata": {},
     "output_type": "execute_result"
    },
    {
     "data": {
      "image/png": "[encoded data removed]",
      "text/plain": [
       "<matplotlib.figure.Figure at 0x7f00882a0be0>"
      ]
     },
     "metadata": {},
     "output_type": "display_data"
    }
   ],
   "source": [
    "S = 2*np.random.randint(0,high=2, size=N**2)-1\n",
    "Overlaps = [np.dot(S, vector)/N**2 for vector in vectors]\n",
    "print(Overlaps)\n",
    "fig, (axes1, axes2) = plt.subplots(nrows = 1, ncols=2, figsize=(10,6))\n",
    "axes1.set_title(\"Before\")\n",
    "axes1.imshow(-S.reshape((N,N)), interpolation='nearest', cmap = 'gray')\n",
    "\n",
    "S = 2*(np.dot(synaptic_array, S) > threshold)-1\n",
    "Overlaps = [np.dot(S, vector)/N**2 for vector in vectors]\n",
    "print(Overlaps)\n",
    "\n",
    "axes2.set_title(\"After\")\n",
    "axes2.imshow(-S.reshape((N,N)), interpolation='nearest', cmap = 'gray')"
   ]
  }
 ],
 "metadata": {
  "kernelspec": {
   "display_name": "Python 3",
   "language": "python",
   "name": "python3"
  },
  "language_info": {
   "codemirror_mode": {
    "name": "ipython",
    "version": 3
   },
   "file_extension": ".py",
   "mimetype": "text/x-python",
   "name": "python",
   "nbconvert_exporter": "python",
   "pygments_lexer": "ipython3",
   "version": "3.5.1"
  }
 },
 "nbformat": 4,
 "nbformat_minor": 0
}

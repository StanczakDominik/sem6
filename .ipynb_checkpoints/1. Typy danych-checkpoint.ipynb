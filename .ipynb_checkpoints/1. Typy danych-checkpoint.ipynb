{
 "cells": [
  {
   "cell_type": "markdown",
   "metadata": {},
   "source": [
    "# Jupyter notebook\n",
    "Czyli cała magia Pythona w sympatycznym mathematicowym interfejsie\n",
    "### przydatne triki\n",
    "* dwuklik\\enter na dowolnej komórce - edycja kodu\n",
    "* ctrl-enter: wykonuje bieżącą komórkę\n",
    "* shift-enter: wykonuje bieżącą komórkę i przechodzi dalej\n",
    "* m na komórce - zamienia ją na takiego właśnie a~~u~~rtystycznego markdowna (defaultowy typ komórki to kod)\n",
    "* HELP -> KEYBOARD SHORTCUTS\n",
    "* $x^2 + y^2 = z^2$ - obsługa texa po zamknięciu texowego kodotekstu w $$\n",
    "* i dwakroć - interrupt komórki (dobre na nieskończone while)\n",
    "\n",
    "### Podstawowe typy danych w pythonie i ogólnie syntax, formalności\n",
    "Czyli jak nie wpaść w bagno\n",
    "### Numerki"
   ]
  },
  {
   "cell_type": "code",
   "execution_count": null,
   "metadata": {
    "collapsed": false
   },
   "outputs": [],
   "source": [
    "#inty są  <--- a to jest #komentarz\n",
    "a = 1 \n",
    "b = 3\n",
    "\n",
    "#floaty są\n",
    "f1 = 1.5\n",
    "f2 = 3.4\n",
    "f3 = f1 + (f2*f1)**(f1%2)                   #2**3 = 8\n",
    "print(f3)\n",
    "f2"
   ]
  },
  {
   "cell_type": "markdown",
   "metadata": {},
   "source": [
    "# STRUKTURA \"BLOKU\" W PYTHONIE\n",
    "blok - if, wnetrze pętli, funkcji...\n",
    "\n",
    "* BEZ ŻADNYCH KURDE ŚREDNIKÓW\n",
    "* dwukropki na początku bloków\n",
    "* TABULACJA bądź CZTERY SPACJE określają, co jest w środku pętli"
   ]
  },
  {
   "cell_type": "code",
   "execution_count": null,
   "metadata": {
    "collapsed": false
   },
   "outputs": [],
   "source": [
    "if \"prawda\": #<--- dwukropek!\n",
    "# \\/---- tabulacja!\n",
    "    print(\"No prawda.\")"
   ]
  },
  {
   "cell_type": "code",
   "execution_count": null,
   "metadata": {
    "collapsed": false
   },
   "outputs": [],
   "source": [
    "if (\"prawda\" == True):                                  #można wstawiać w nawiasy, nie trzeba :)\n",
    "    print(\"Nie do końca to samo!\")\n",
    "if (\"prawda\" != False):\n",
    "    print(\"To akurat zadziała. String nie jest falsem\")\n",
    "if(0 == False):\n",
    "    print(\"To też zadziała. Widać czym jest ten bool?\")\n",
    "if (3.14 > 3):\n",
    "    import math\n",
    "    print(math.pi)\n",
    "math.pi == 5\n"
   ]
  },
  {
   "cell_type": "markdown",
   "metadata": {},
   "source": [
    "# Stringi"
   ]
  },
  {
   "cell_type": "code",
   "execution_count": null,
   "metadata": {
    "collapsed": false
   },
   "outputs": [],
   "source": [
    "kotek = \"Mruczek\"\n",
    "piesek = \"Burek\"\n",
    "misiaczek = \"Pietrzak\"\n",
    "2*kotek + 3*piesek+misiaczek\n",
    "print(\"Ziomek \" + misiaczek)\n",
    "print(\"Panda{}\".format(3))"
   ]
  },
  {
   "cell_type": "markdown",
   "metadata": {},
   "source": [
    "## Obiekty\n",
    "Generalnie wszystko w pythonie jest obiektem\n",
    "Wszystkiemu da się zdefiniować **metody**\n",
    "Proponuję wpisać w tym momencie:\n",
    "> misi\n",
    "\n",
    "i tabulacja - autocompletion :)\n",
    "\n",
    "> misiaczek.\n",
    "\n",
    "i to powinno wyświetlić wszystkie dostępne nam metody dla tego obiektu. Python automatycznie sprawdza typ obiektu i wyświetla dla niego metody."
   ]
  },
  {
   "cell_type": "code",
   "execution_count": null,
   "metadata": {
    "collapsed": false
   },
   "outputs": [],
   "source": [
    "print(kotek.upper() + \"URWAŁ\")"
   ]
  },
  {
   "cell_type": "code",
   "execution_count": null,
   "metadata": {
    "collapsed": false
   },
   "outputs": [],
   "source": [
    "print(kotek[0])\n",
    "print(kotek[1:5])\n",
    "print(kotek[::2])"
   ]
  },
  {
   "cell_type": "markdown",
   "metadata": {},
   "source": [
    "# Jak zrobić pętlę"
   ]
  },
  {
   "cell_type": "code",
   "execution_count": null,
   "metadata": {
    "collapsed": false
   },
   "outputs": [],
   "source": [
    "for i in range(len(kotek)):  #niepythonowski for!!!!! działa, ale nie jest wypas\n",
    "    print(i, kotek[i])"
   ]
  },
  {
   "cell_type": "code",
   "execution_count": null,
   "metadata": {
    "collapsed": false
   },
   "outputs": [],
   "source": [
    "for litera in kotek:        #pythonowski for! działa, jest wypas\n",
    "    print(litera)"
   ]
  },
  {
   "cell_type": "code",
   "execution_count": null,
   "metadata": {
    "collapsed": false
   },
   "outputs": [],
   "source": [
    "for indeks, litera in enumerate(kotek):                  #to jest wypas.\n",
    "    print(indeks, litera)"
   ]
  },
  {
   "cell_type": "code",
   "execution_count": null,
   "metadata": {
    "collapsed": false
   },
   "outputs": [],
   "source": [
    "### While, mało popularny\n",
    "x = 0\n",
    "while (x < 5):\n",
    "    print(x)\n",
    "    x+=1\n",
    "    \n",
    "print(\"A teraz forem:\")\n",
    "for x in range(5):\n",
    "    print(x)"
   ]
  },
  {
   "cell_type": "markdown",
   "metadata": {},
   "source": [
    "# Listy"
   ]
  },
  {
   "cell_type": "code",
   "execution_count": null,
   "metadata": {
    "collapsed": false
   },
   "outputs": [],
   "source": [
    "lista = [3,1,4,1,5,9,7]\n",
    "for i, x in enumerate(lista):\n",
    "    print(i, x)\n",
    "\n",
    "    \n",
    "lista[5]=-700\n",
    "lista.append(15)\n",
    "print(lista)\n",
    "\n",
    "x = lista.pop(1)\n",
    "print(x, lista)"
   ]
  },
  {
   "cell_type": "code",
   "execution_count": null,
   "metadata": {
    "collapsed": false
   },
   "outputs": [],
   "source": [
    "\n",
    "#list comprehension\n",
    "kwadraty = [x**2 for x in lista]\n",
    "print(lista, kwadraty, sep=\"\\n\")\n",
    "\n",
    "[x**3 - x**2 + x - 1 for i, x in enumerate(lista) if x > 0 and i < 6]"
   ]
  },
  {
   "cell_type": "code",
   "execution_count": 2,
   "metadata": {
    "collapsed": false
   },
   "outputs": [
    {
     "name": "stdout",
     "output_type": "stream",
     "text": [
      "[1, 2, 3]\n",
      "1\n",
      "2\n",
      "3\n",
      "[4, 5, 6]\n",
      "4\n",
      "5\n",
      "6\n",
      "[7, 8, 9]\n",
      "7\n",
      "8\n",
      "9\n"
     ]
    }
   ],
   "source": [
    "zagniezdzona_lista = [[1,2,3],[4,5,6],[7,8,9]]\n",
    "for lista in zagniezdzona_lista:\n",
    "    print(lista)\n",
    "    for liczba in lista:\n",
    "        print(liczba)"
   ]
  },
  {
   "cell_type": "code",
   "execution_count": 3,
   "metadata": {
    "collapsed": false
   },
   "outputs": [
    {
     "name": "stdout",
     "output_type": "stream",
     "text": [
      "(1, 2, 3, 4)\n",
      "1\n"
     ]
    },
    {
     "ename": "TypeError",
     "evalue": "'tuple' object does not support item assignment",
     "output_type": "error",
     "traceback": [
      "\u001b[1;31m---------------------------------------------------------------------------\u001b[0m",
      "\u001b[1;31mTypeError\u001b[0m                                 Traceback (most recent call last)",
      "\u001b[1;32m<ipython-input-3-1019ba7ecf04>\u001b[0m in \u001b[0;36m<module>\u001b[1;34m()\u001b[0m\n\u001b[0;32m      2\u001b[0m \u001b[0mprint\u001b[0m\u001b[1;33m(\u001b[0m\u001b[0mtupelek\u001b[0m\u001b[1;33m)\u001b[0m\u001b[1;33m\u001b[0m\u001b[0m\n\u001b[0;32m      3\u001b[0m \u001b[0mprint\u001b[0m\u001b[1;33m(\u001b[0m\u001b[0mtupelek\u001b[0m\u001b[1;33m[\u001b[0m\u001b[1;36m0\u001b[0m\u001b[1;33m]\u001b[0m\u001b[1;33m)\u001b[0m\u001b[1;33m\u001b[0m\u001b[0m\n\u001b[1;32m----> 4\u001b[1;33m \u001b[0mtupelek\u001b[0m\u001b[1;33m[\u001b[0m\u001b[1;36m1\u001b[0m\u001b[1;33m]\u001b[0m \u001b[1;33m=\u001b[0m \u001b[1;36m5\u001b[0m\u001b[1;33m\u001b[0m\u001b[0m\n\u001b[0m",
      "\u001b[1;31mTypeError\u001b[0m: 'tuple' object does not support item assignment"
     ]
    }
   ],
   "source": [
    "tupelek = 1, 2, 3, 4\n",
    "print(tupelek)\n",
    "print(tupelek[0])\n",
    "tupelek[1] = 5"
   ]
  },
  {
   "cell_type": "markdown",
   "metadata": {},
   "source": [
    "# ERROR JEST WASZYM PRZYJACIELEM\n",
    "Ogólna myśl pythona jest taka, żeby przyspieszyć pisanie. To znaczy:\n",
    "* odpalamy często, na bieżąco\n",
    "* budujemy kod małymi kroczkami\n",
    "* **UCZYMY SIE NA BŁĘDACH**\n",
    "* Te błędy zwykle są super dobrze opisane i można dzięki nim szybko rozgryźć co jest w kodzie nie tak"
   ]
  },
  {
   "cell_type": "code",
   "execution_count": null,
   "metadata": {
    "collapsed": false
   },
   "outputs": [],
   "source": [
    "a, b = 1, 5\n",
    "a, b = b, a\n",
    "print(a, b)"
   ]
  },
  {
   "cell_type": "code",
   "execution_count": null,
   "metadata": {
    "collapsed": true
   },
   "outputs": [],
   "source": [
    "import this"
   ]
  },
  {
   "cell_type": "code",
   "execution_count": null,
   "metadata": {
    "collapsed": true
   },
   "outputs": [],
   "source": [
    "import antigravity"
   ]
  },
  {
   "cell_type": "code",
   "execution_count": null,
   "metadata": {
    "collapsed": true
   },
   "outputs": [],
   "source": [
    "# Słowniki\n",
    "Ważna przydatna rzecz którą nie będziemy się zajmowali ale warto o niej wiedzieć"
   ]
  },
  {
   "cell_type": "code",
   "execution_count": null,
   "metadata": {
    "collapsed": false
   },
   "outputs": [],
   "source": [
    "słownik = {\"Urbański\": \"Michał\", \"Wasiucionek\": \"Marek\", \"Hołyst\": \"Janusz\", \"Wierzba\": \"Michał\"}\n",
    "słownik['Urbański']"
   ]
  },
  {
   "cell_type": "code",
   "execution_count": null,
   "metadata": {
    "collapsed": false
   },
   "outputs": [],
   "source": [
    "słownik['Michał']"
   ]
  },
  {
   "cell_type": "code",
   "execution_count": null,
   "metadata": {
    "collapsed": false
   },
   "outputs": [],
   "source": [
    "słownik['Dygas'] = 'Zapłać'"
   ]
  },
  {
   "cell_type": "code",
   "execution_count": 1,
   "metadata": {
    "collapsed": false
   },
   "outputs": [
    {
     "ename": "NameError",
     "evalue": "name 'słownik' is not defined",
     "output_type": "error",
     "traceback": [
      "\u001b[1;31m---------------------------------------------------------------------------\u001b[0m",
      "\u001b[1;31mNameError\u001b[0m                                 Traceback (most recent call last)",
      "\u001b[1;32m<ipython-input-1-1a0053cb781f>\u001b[0m in \u001b[0;36m<module>\u001b[1;34m()\u001b[0m\n\u001b[1;32m----> 1\u001b[1;33m \u001b[1;32mfor\u001b[0m \u001b[0mnazwisko\u001b[0m\u001b[1;33m,\u001b[0m \u001b[0mimię\u001b[0m \u001b[1;32min\u001b[0m \u001b[0msłownik\u001b[0m\u001b[1;33m.\u001b[0m\u001b[0mitems\u001b[0m\u001b[1;33m(\u001b[0m\u001b[1;33m)\u001b[0m\u001b[1;33m:\u001b[0m\u001b[1;33m\u001b[0m\u001b[0m\n\u001b[0m\u001b[0;32m      2\u001b[0m     \u001b[0mprint\u001b[0m\u001b[1;33m(\u001b[0m\u001b[0mnazwisko\u001b[0m\u001b[1;33m,\u001b[0m \u001b[0mimię\u001b[0m\u001b[1;33m)\u001b[0m  \u001b[1;31m#kolejność jest trochę randomowa\u001b[0m\u001b[1;33m\u001b[0m\u001b[0m\n",
      "\u001b[1;31mNameError\u001b[0m: name 'słownik' is not defined"
     ]
    }
   ],
   "source": [
    "for nazwisko, imię in słownik.items():\n",
    "    print(nazwisko, imię)  #kolejność jest trochę randomowa"
   ]
  },
  {
   "cell_type": "markdown",
   "metadata": {},
   "source": [
    "# KONIEC CZĘŚCI PIERWSZEJ"
   ]
  }
 ],
 "metadata": {
  "kernelspec": {
   "display_name": "Python 3",
   "language": "python",
   "name": "python3"
  },
  "language_info": {
   "codemirror_mode": {
    "name": "ipython",
    "version": 3
   },
   "file_extension": ".py",
   "mimetype": "text/x-python",
   "name": "python",
   "nbconvert_exporter": "python",
   "pygments_lexer": "ipython3",
   "version": "3.5.1"
  }
 },
 "nbformat": 4,
 "nbformat_minor": 0
}

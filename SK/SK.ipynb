{
 "cells": [
  {
   "cell_type": "markdown",
   "metadata": {},
   "source": [
    "# SK\n",
    "[Strona przedmiotu](http://www.if.pw.edu.pl/~siecik/)"
   ]
  },
  {
   "cell_type": "markdown",
   "metadata": {
    "collapsed": true
   },
   "source": [
    "# Sieci wykład 3\n",
    "## Internet, Routing globalny\n",
    "\n",
    "route - trasa\n",
    "* znalezienie trasy\n",
    "* \"wykonanie jej\", przejechanie\n",
    "\n",
    "Internet - sieć rozproszona\n",
    "Było mnóstwo prób, Internet jako pierwszy w końcu się zmainstreamował\n",
    ">Information Superhighway\n",
    "\n",
    "początkowo oznaczało coś innego niż internet. Proprietary rozw. Micro$oftu\n",
    "\n",
    "Internet je:\n",
    "* ROZPROSZONY (brak globalnego autorytetu, dyktatora etc\n",
    "* Globalna - wszędzie dostępny (no, poza NK)\n",
    "* Nazywanie urządzeń (DNS)\n",
    "  * DNSy są w USA :)\n",
    "* Niezależne od technologii (może być telefon, światłowód, mogłoby być na upartego rzucanie kamieniami)\n",
    "\n",
    "### Router\n",
    "Łączy dwie sieci. Często mocno po byku, nie tak jak domowe zabawkowe.\n",
    "Router brzegowy i router wewnątrz sieci - globalnie łączą się generalnie między sobą routery dedykowane (*core routers*) i tworzą *sieć szkieletową* (*internet backbone*)\n",
    "\n",
    "\n",
    "Core router różni się od domowego liczbą możliwych wpięć, szybkością możliwą przesyłania pakietów - musi być maksymalna na obecne czasy (światłowody, itd.)\n",
    "\n",
    "CISCO, firma robi tylko routery i są #60 firmą globalnie.\n",
    "Generalnie 5 producentów. Czemu tylko tyle? Technologia i knowhow\n",
    "\n",
    "Jak nie zdążymy obsłużyć jednego pakietu to mamy $exp(t)$ przyrost, niestabilność, zło, sodoma, gomorra i pusty GRUB.\n",
    "\n",
    "Backdoory w routerach Junipera :(\n",
    "\n",
    "Połączone *sieci autonomiczne* (AS)\n",
    "\n",
    "### ISP\n",
    "ISP = AS tranzytowy, przez jego sieć płyną pakiety nie od niego i nie do niego\n",
    "ISP nie jest np. PW\n",
    "\n",
    "* Tier Edge (Tepsa)\n",
    "* Tier 2\n",
    "* Tier 1 (kilku)\n",
    "* Tier Core (często mają darmowy dostęp)\n",
    "\n",
    "\n",
    "### Tablica routingu\n",
    "Pingowanie trwa! A pakiet musi zostać obsłużony natychmiast!\n",
    "Rozwiązanie: lookup table na trasy (adresy docelowe -> interfejsy łączy)\n",
    "\n",
    "Routery brzegowe korzystają ze statycznej tablicy\n",
    "Tablica routingu na core jest dynamiczna, sama musi się aktualizować\n",
    "\n",
    "### Routing dynamiczny\n",
    "* Każdy router musi go wspierać\n",
    "* Prosty algorytm\n",
    "* Wycięte wszystko co mniej potrzebne\n",
    "* Cisco, Border Gateway Protocol\n",
    "* Rozmiar tego BGP rośnie sobie mniej więcej wykładniczo, obecnie 600 000 wpisów\n",
    "\n",
    "\n",
    "Internet jest na tym etapie praktycznie całkowicie autonomiczny! Toż to prawie AI!\n",
    "\n",
    "> Z powodu błędnego ustawienia parametrów cały ruch EU - USA szedł przez... Turcję. Albo Białoruś.\n"
   ]
  }
 ],
 "metadata": {
  "kernelspec": {
   "display_name": "Python 3",
   "language": "python",
   "name": "python3"
  },
  "language_info": {
   "codemirror_mode": {
    "name": "ipython",
    "version": 3
   },
   "file_extension": ".py",
   "mimetype": "text/x-python",
   "name": "python",
   "nbconvert_exporter": "python",
   "pygments_lexer": "ipython3",
   "version": "3.5.0"
  }
 },
 "nbformat": 4,
 "nbformat_minor": 0
}

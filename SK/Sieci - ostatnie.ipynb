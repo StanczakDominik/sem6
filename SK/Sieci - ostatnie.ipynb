{
 "cells": [
  {
   "cell_type": "markdown",
   "metadata": {},
   "source": [
    "# Sieci 16.05.11\n",
    "## Bezpieczeństwo w Sieci\n",
    "### Narzędzia\n",
    "* Firewall\n",
    "* Switche\n",
    "* Kryptografia - wbudowana w HTTP(s), maile, itd\n",
    "* IDS - Intrusion Detection System\n",
    "* Antywirusy\n",
    "* Backup, okresowy, automatyczny\n",
    "\n",
    "### Co możemy zrobić my:\n",
    "* Używać SSH\n",
    "* Nie działać na koncie admina\n",
    "* Aktualizoać soft\n",
    "* Serwer tylko jako serwer, nie jako gloryfikowany klient\n",
    "* Dobra konfiguracja\n",
    "* Firewall, IDS, backup na serwerze (przynajmniej)\n",
    "* Log aktywności + backup tegoż\n",
    "\n",
    "### Od strony projektowania sieci\n",
    "* Podział sieci na podukłady, każda z własną ochroną\n",
    "* Firewall pomiędzy strefami własnej firmy\n",
    "    * Breach na jeden komputer: cała podsieć compromised\n",
    "\n",
    "### Jak się włamać do sieci\n",
    "* Zbieranie informacji - strony, fora, materiały promocyjne\n",
    "    * Kontra: nie udostępniać tego co niepotrzebne\n",
    "* Inżynieria społeczna - dane osobowe, podszywanie się\n",
    "    * Weryfikacja i szkolenie użytkowników\n",
    "* Dostęp do DNS, WHOIS\n",
    "    * Minimalizacja wpisów w tymże\n",
    "* Mapowanie sieci (spingować każdy adres, traceroute)\n",
    "    * Można zablokować ICMP\n",
    "    * > Nie bądźmy frajerami\n",
    "    * Użyć DNS\n",
    "* Skanowanie portów\n",
    "    * Jest karalne, jak kogoś złapać\n",
    "\n",
    "### Jak już zbierzemy dane, jak się włamać do sieci\n",
    "* Wyciągnąć login/hasło\n",
    "    * social engineering\n",
    "    * bruteforce\n",
    "    * podsłuchać traffic sieciowy - jeśli ktoś wysyła bez enkrypcji to bingo\n",
    "* Backdoory\n",
    "* Exploity\n",
    "    * > Little Bobby Tables\n",
    "* APR spoofing (przekierowanie z IP na IP)\n",
    "* TCP spoofing (przechwytywanie transmisji)\n",
    "* Man in the middle (przekierowanie połączenia, by biegło przez nasz niecny hakerski system)\n",
    "* DNS spoofing\n",
    "* Zakłócenie komunikacji sieciowej - routing/ICMP\n",
    "* DoS, DDoS\n",
    "\n",
    "> Większość hakerów to n00by\n"
   ]
  }
 ],
 "metadata": {
  "kernelspec": {
   "display_name": "Python 3",
   "language": "python",
   "name": "python3"
  },
  "language_info": {
   "codemirror_mode": {
    "name": "ipython",
    "version": 3
   },
   "file_extension": ".py",
   "mimetype": "text/x-python",
   "name": "python",
   "nbconvert_exporter": "python",
   "pygments_lexer": "ipython3",
   "version": "3.5.1"
  }
 },
 "nbformat": 4,
 "nbformat_minor": 0
}
